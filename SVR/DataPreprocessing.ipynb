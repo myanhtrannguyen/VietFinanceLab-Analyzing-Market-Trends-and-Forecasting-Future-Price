{
 "cells": [
  {
   "cell_type": "markdown",
   "id": "5d561aef",
   "metadata": {},
   "source": [
    "## Import Libraries"
   ]
  },
  {
   "cell_type": "code",
   "execution_count": 1,
   "id": "3d8f89f2",
   "metadata": {},
   "outputs": [],
   "source": [
    "import os\n",
    "import pandas as pd\n",
    "import numpy as np\n",
    "import matplotlib.pyplot as plt\n",
    "import math\n",
    "import datetime as dt\n",
    "\n",
    "from xgboost import XGBRegressor\n",
    "from sklearn.svm import SVR\n",
    "from sklearn.metrics import mean_squared_error, mean_absolute_error, r2_score \n",
    "from sklearn.metrics import mean_poisson_deviance, mean_gamma_deviance, accuracy_score\n",
    "from sklearn.preprocessing import MinMaxScaler, StandardScaler\n",
    "from sklearn.model_selection import learning_curve, train_test_split\n",
    "\n",
    "from itertools import cycle\n",
    "import plotly.graph_objects as go\n",
    "import plotly.express as px\n",
    "from plotly.subplots import make_subplots\n",
    "from tqdm import tqdm\n",
    "\n",
    "import seaborn as sns\n",
    "sns.set_style('whitegrid')\n",
    "plt.style.use(\"fivethirtyeight\")\n",
    "%matplotlib inline\n",
    "\n",
    "import warnings\n",
    "warnings.filterwarnings(\"ignore\")"
   ]
  },
  {
   "cell_type": "markdown",
   "id": "f58e7dd2",
   "metadata": {},
   "source": [
    "## Load dataset"
   ]
  },
  {
   "cell_type": "code",
   "execution_count": 2,
   "id": "1e646296",
   "metadata": {},
   "outputs": [],
   "source": [
    "df = pd.read_csv('/Users/trannguyenmyanh/Documents/VietFinanceLab-Analyzing-Market-Trends-and-Forecasting-Future-Price/Dataset/construction/PTC.csv', sep='\\t', index_col=0)"
   ]
  },
  {
   "cell_type": "code",
   "execution_count": 3,
   "id": "fd2199a4",
   "metadata": {},
   "outputs": [
    {
     "data": {
      "text/html": [
       "<div>\n",
       "<style scoped>\n",
       "    .dataframe tbody tr th:only-of-type {\n",
       "        vertical-align: middle;\n",
       "    }\n",
       "\n",
       "    .dataframe tbody tr th {\n",
       "        vertical-align: top;\n",
       "    }\n",
       "\n",
       "    .dataframe thead th {\n",
       "        text-align: right;\n",
       "    }\n",
       "</style>\n",
       "<table border=\"1\" class=\"dataframe\">\n",
       "  <thead>\n",
       "    <tr style=\"text-align: right;\">\n",
       "      <th></th>\n",
       "      <th>Open</th>\n",
       "      <th>High</th>\n",
       "      <th>Low</th>\n",
       "      <th>Close</th>\n",
       "      <th>Volume</th>\n",
       "      <th>TradingDate</th>\n",
       "      <th>Code</th>\n",
       "    </tr>\n",
       "  </thead>\n",
       "  <tbody>\n",
       "    <tr>\n",
       "      <th>0</th>\n",
       "      <td>15430.0</td>\n",
       "      <td>15430.0</td>\n",
       "      <td>13890.0</td>\n",
       "      <td>13890.0</td>\n",
       "      <td>5100</td>\n",
       "      <td>2006-12-25</td>\n",
       "      <td>PTC</td>\n",
       "    </tr>\n",
       "    <tr>\n",
       "      <th>1</th>\n",
       "      <td>13890.0</td>\n",
       "      <td>14440.0</td>\n",
       "      <td>13890.0</td>\n",
       "      <td>14440.0</td>\n",
       "      <td>7200</td>\n",
       "      <td>2006-12-26</td>\n",
       "      <td>PTC</td>\n",
       "    </tr>\n",
       "    <tr>\n",
       "      <th>2</th>\n",
       "      <td>15560.0</td>\n",
       "      <td>15560.0</td>\n",
       "      <td>14200.0</td>\n",
       "      <td>14200.0</td>\n",
       "      <td>5000</td>\n",
       "      <td>2006-12-27</td>\n",
       "      <td>PTC</td>\n",
       "    </tr>\n",
       "    <tr>\n",
       "      <th>3</th>\n",
       "      <td>14810.0</td>\n",
       "      <td>15590.0</td>\n",
       "      <td>14810.0</td>\n",
       "      <td>14200.0</td>\n",
       "      <td>9700</td>\n",
       "      <td>2006-12-28</td>\n",
       "      <td>PTC</td>\n",
       "    </tr>\n",
       "    <tr>\n",
       "      <th>4</th>\n",
       "      <td>15430.0</td>\n",
       "      <td>15430.0</td>\n",
       "      <td>14200.0</td>\n",
       "      <td>15120.0</td>\n",
       "      <td>11500</td>\n",
       "      <td>2006-12-29</td>\n",
       "      <td>PTC</td>\n",
       "    </tr>\n",
       "  </tbody>\n",
       "</table>\n",
       "</div>"
      ],
      "text/plain": [
       "      Open     High      Low    Close  Volume TradingDate Code\n",
       "0  15430.0  15430.0  13890.0  13890.0    5100  2006-12-25  PTC\n",
       "1  13890.0  14440.0  13890.0  14440.0    7200  2006-12-26  PTC\n",
       "2  15560.0  15560.0  14200.0  14200.0    5000  2006-12-27  PTC\n",
       "3  14810.0  15590.0  14810.0  14200.0    9700  2006-12-28  PTC\n",
       "4  15430.0  15430.0  14200.0  15120.0   11500  2006-12-29  PTC"
      ]
     },
     "execution_count": 3,
     "metadata": {},
     "output_type": "execute_result"
    }
   ],
   "source": [
    "df.head()"
   ]
  },
  {
   "cell_type": "code",
   "execution_count": 4,
   "id": "e3062f35",
   "metadata": {},
   "outputs": [
    {
     "name": "stdout",
     "output_type": "stream",
     "text": [
      "<class 'pandas.core.frame.DataFrame'>\n",
      "Index: 4506 entries, 0 to 4505\n",
      "Data columns (total 7 columns):\n",
      " #   Column       Non-Null Count  Dtype  \n",
      "---  ------       --------------  -----  \n",
      " 0   Open         4506 non-null   float64\n",
      " 1   High         4506 non-null   float64\n",
      " 2   Low          4506 non-null   float64\n",
      " 3   Close        4506 non-null   float64\n",
      " 4   Volume       4506 non-null   int64  \n",
      " 5   TradingDate  4506 non-null   object \n",
      " 6   Code         4506 non-null   object \n",
      "dtypes: float64(4), int64(1), object(2)\n",
      "memory usage: 281.6+ KB\n"
     ]
    }
   ],
   "source": [
    "df.info()"
   ]
  },
  {
   "cell_type": "code",
   "execution_count": 5,
   "id": "4b0d4a4b",
   "metadata": {},
   "outputs": [
    {
     "data": {
      "text/html": [
       "<div>\n",
       "<style scoped>\n",
       "    .dataframe tbody tr th:only-of-type {\n",
       "        vertical-align: middle;\n",
       "    }\n",
       "\n",
       "    .dataframe tbody tr th {\n",
       "        vertical-align: top;\n",
       "    }\n",
       "\n",
       "    .dataframe thead th {\n",
       "        text-align: right;\n",
       "    }\n",
       "</style>\n",
       "<table border=\"1\" class=\"dataframe\">\n",
       "  <thead>\n",
       "    <tr style=\"text-align: right;\">\n",
       "      <th></th>\n",
       "      <th>Open</th>\n",
       "      <th>High</th>\n",
       "      <th>Low</th>\n",
       "      <th>Close</th>\n",
       "      <th>Volume</th>\n",
       "    </tr>\n",
       "  </thead>\n",
       "  <tbody>\n",
       "    <tr>\n",
       "      <th>count</th>\n",
       "      <td>4506.000000</td>\n",
       "      <td>4506.000000</td>\n",
       "      <td>4506.000000</td>\n",
       "      <td>4506.000000</td>\n",
       "      <td>4.506000e+03</td>\n",
       "    </tr>\n",
       "    <tr>\n",
       "      <th>mean</th>\n",
       "      <td>5545.521527</td>\n",
       "      <td>5660.798935</td>\n",
       "      <td>5414.884598</td>\n",
       "      <td>5539.494008</td>\n",
       "      <td>7.201237e+04</td>\n",
       "    </tr>\n",
       "    <tr>\n",
       "      <th>std</th>\n",
       "      <td>5427.424557</td>\n",
       "      <td>5589.247115</td>\n",
       "      <td>5220.219287</td>\n",
       "      <td>5409.454728</td>\n",
       "      <td>1.624761e+05</td>\n",
       "    </tr>\n",
       "    <tr>\n",
       "      <th>min</th>\n",
       "      <td>1140.000000</td>\n",
       "      <td>1170.000000</td>\n",
       "      <td>1140.000000</td>\n",
       "      <td>1140.000000</td>\n",
       "      <td>0.000000e+00</td>\n",
       "    </tr>\n",
       "    <tr>\n",
       "      <th>25%</th>\n",
       "      <td>3142.500000</td>\n",
       "      <td>3210.000000</td>\n",
       "      <td>3090.000000</td>\n",
       "      <td>3152.500000</td>\n",
       "      <td>1.552500e+03</td>\n",
       "    </tr>\n",
       "    <tr>\n",
       "      <th>50%</th>\n",
       "      <td>3980.000000</td>\n",
       "      <td>4070.000000</td>\n",
       "      <td>3920.000000</td>\n",
       "      <td>4000.000000</td>\n",
       "      <td>1.380500e+04</td>\n",
       "    </tr>\n",
       "    <tr>\n",
       "      <th>75%</th>\n",
       "      <td>5440.000000</td>\n",
       "      <td>5560.000000</td>\n",
       "      <td>5350.000000</td>\n",
       "      <td>5447.500000</td>\n",
       "      <td>6.125250e+04</td>\n",
       "    </tr>\n",
       "    <tr>\n",
       "      <th>max</th>\n",
       "      <td>46560.000000</td>\n",
       "      <td>48340.000000</td>\n",
       "      <td>45000.000000</td>\n",
       "      <td>46110.000000</td>\n",
       "      <td>2.065000e+06</td>\n",
       "    </tr>\n",
       "  </tbody>\n",
       "</table>\n",
       "</div>"
      ],
      "text/plain": [
       "               Open          High           Low         Close        Volume\n",
       "count   4506.000000   4506.000000   4506.000000   4506.000000  4.506000e+03\n",
       "mean    5545.521527   5660.798935   5414.884598   5539.494008  7.201237e+04\n",
       "std     5427.424557   5589.247115   5220.219287   5409.454728  1.624761e+05\n",
       "min     1140.000000   1170.000000   1140.000000   1140.000000  0.000000e+00\n",
       "25%     3142.500000   3210.000000   3090.000000   3152.500000  1.552500e+03\n",
       "50%     3980.000000   4070.000000   3920.000000   4000.000000  1.380500e+04\n",
       "75%     5440.000000   5560.000000   5350.000000   5447.500000  6.125250e+04\n",
       "max    46560.000000  48340.000000  45000.000000  46110.000000  2.065000e+06"
      ]
     },
     "execution_count": 5,
     "metadata": {},
     "output_type": "execute_result"
    }
   ],
   "source": [
    "df.describe()"
   ]
  },
  {
   "cell_type": "markdown",
   "id": "d155e4f0",
   "metadata": {},
   "source": [
    "## Data Cleaning"
   ]
  },
  {
   "cell_type": "code",
   "execution_count": 6,
   "id": "f65544b5",
   "metadata": {},
   "outputs": [],
   "source": [
    "df['TradingDate'] = pd.to_datetime(df['TradingDate'], format='%Y-%m-%d')"
   ]
  },
  {
   "cell_type": "code",
   "execution_count": 7,
   "id": "be25d0d7",
   "metadata": {},
   "outputs": [],
   "source": [
    "df = df.dropna()"
   ]
  },
  {
   "cell_type": "markdown",
   "id": "18ee1790",
   "metadata": {},
   "source": [
    "## Data Visualization"
   ]
  },
  {
   "cell_type": "code",
   "execution_count": 8,
   "id": "4f3d2082",
   "metadata": {},
   "outputs": [
    {
     "data": {
      "image/png": "[encoded data removed]",
      "text/plain": [
       "<Figure size 1600x600 with 1 Axes>"
      ]
     },
     "metadata": {},
     "output_type": "display_data"
    }
   ],
   "source": [
    "plt.figure(figsize=(16,6))\n",
    "plt.title('Close Price History')\n",
    "plt.plot(df['Close'])\n",
    "plt.xlabel('Date', fontsize=18)\n",
    "plt.ylabel('Close Price USD ($)', fontsize=18)\n",
    "plt.show()"
   ]
  },
  {
   "cell_type": "markdown",
   "id": "db41710e",
   "metadata": {},
   "source": [
    "## Manipulate data"
   ]
  },
  {
   "cell_type": "code",
   "execution_count": 9,
   "id": "02dac45b",
   "metadata": {},
   "outputs": [],
   "source": [
    "# Create a new dataframe\n",
    "data = df.filter(['Close'])\n",
    "# Convert the dataframe to a numpy array\n",
    "dataset = data.values"
   ]
  },
  {
   "cell_type": "code",
   "execution_count": 10,
   "id": "5f825dfd",
   "metadata": {},
   "outputs": [
    {
     "data": {
      "text/plain": [
       "array([[1.54385852],\n",
       "       [1.64554363],\n",
       "       [1.60117195],\n",
       "       ...,\n",
       "       [0.10917395],\n",
       "       [0.07959282],\n",
       "       [0.04816288]])"
      ]
     },
     "execution_count": 10,
     "metadata": {},
     "output_type": "execute_result"
    }
   ],
   "source": [
    "# scaler = MinMaxScaler(feature_range=(0,1))\n",
    "scaler = StandardScaler()\n",
    "scaled_data = scaler.fit_transform(dataset)\n",
    "\n",
    "scaled_data"
   ]
  },
  {
   "cell_type": "code",
   "execution_count": null,
   "id": "96c56671",
   "metadata": {},
   "outputs": [],
   "source": []
  }
 ],
 "metadata": {
  "kernelspec": {
   "display_name": "Python 3",
   "language": "python",
   "name": "python3"
  },
  "language_info": {
   "codemirror_mode": {
    "name": "ipython",
    "version": 3
   },
   "file_extension": ".py",
   "mimetype": "text/x-python",
   "name": "python",
   "nbconvert_exporter": "python",
   "pygments_lexer": "ipython3",
   "version": "3.11.5"
  }
 },
 "nbformat": 4,
 "nbformat_minor": 5
}
