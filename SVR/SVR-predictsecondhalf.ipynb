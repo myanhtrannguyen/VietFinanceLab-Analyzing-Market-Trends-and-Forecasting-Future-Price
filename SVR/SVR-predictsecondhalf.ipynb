{
 "cells": [
  {
   "cell_type": "markdown",
   "id": "e8001f46",
   "metadata": {
    "id": "e8001f46"
   },
   "source": [
    "**Outline:**\n",
    "\n",
    "1. [Libraries and settings](#1-bullet)\n",
    "2. [Nested CV](#2-bullet)\n",
    "3. [Retrain and Evaluate Model](#3-bullet)"
   ]
  },
  {
   "cell_type": "markdown",
   "id": "4e280ca9",
   "metadata": {
    "id": "4e280ca9"
   },
   "source": [
    "## 1. [Libraries and settings](#1-bullet)"
   ]
  },
  {
   "cell_type": "code",
   "execution_count": 1,
   "id": "03fa7ee2",
   "metadata": {
    "colab": {
     "base_uri": "https://localhost:8080/"
    },
    "execution": {
     "iopub.execute_input": "2023-06-28T15:12:57.924072Z",
     "iopub.status.busy": "2023-06-28T15:12:57.923645Z",
     "iopub.status.idle": "2023-06-28T15:12:57.934545Z",
     "shell.execute_reply": "2023-06-28T15:12:57.933186Z",
     "shell.execute_reply.started": "2023-06-28T15:12:57.924044Z"
    },
    "executionInfo": {
     "elapsed": 20341,
     "status": "ok",
     "timestamp": 1747646911305,
     "user": {
      "displayName": "Huyền Nguyễn",
      "userId": "09553267781969793717"
     },
     "user_tz": -420
    },
    "id": "03fa7ee2",
    "outputId": "c15d79c7-58d5-47ca-a157-c441c0451ee8",
    "scrolled": false
   },
   "outputs": [],
   "source": [
    "import os\n",
    "import pandas as pd\n",
    "import numpy as np\n",
    "import matplotlib.pyplot as plt\n",
    "import math\n",
    "import datetime as dt\n",
    "\n",
    "from xgboost import XGBRegressor\n",
    "from sklearn.svm import SVR\n",
    "from sklearn.metrics import mean_squared_error, mean_absolute_error, r2_score \n",
    "from sklearn.preprocessing import MinMaxScaler, StandardScaler\n",
    "from sklearn.model_selection import train_test_split\n",
    "\n",
    "import seaborn as sns\n",
    "sns.set_style('whitegrid')\n",
    "plt.style.use(\"fivethirtyeight\")\n",
    "\n",
    "import warnings\n",
    "warnings.filterwarnings(\"ignore\")"
   ]
  },
  {
   "cell_type": "code",
   "execution_count": null,
   "id": "M4iGqsRk36F5",
   "metadata": {
    "colab": {
     "base_uri": "https://localhost:8080/",
     "height": 649
    },
    "executionInfo": {
     "elapsed": 4991,
     "status": "ok",
     "timestamp": 1747646961397,
     "user": {
      "displayName": "Huyền Nguyễn",
      "userId": "09553267781969793717"
     },
     "user_tz": -420
    },
    "id": "M4iGqsRk36F5",
    "outputId": "63672142-891a-4a5d-fab7-57018ac781e5"
   },
   "outputs": [],
   "source": [
    "df = pd.read_csv('LCS DATASET PATH', sep='\\t', index_col=0)"
   ]
  },
  {
   "cell_type": "code",
   "execution_count": 3,
   "id": "c54ba687",
   "metadata": {},
   "outputs": [],
   "source": [
    "df['TradingDate'] = pd.to_datetime(df['TradingDate'], format='%Y-%m-%d')"
   ]
  },
  {
   "cell_type": "code",
   "execution_count": 4,
   "id": "6eb4cce3",
   "metadata": {},
   "outputs": [],
   "source": [
    "df = df.dropna()"
   ]
  },
  {
   "cell_type": "code",
   "execution_count": 5,
   "id": "1f6948d1",
   "metadata": {},
   "outputs": [],
   "source": [
    "# Create a new dataframe\n",
    "data = df.filter(['Close'])\n",
    "# Convert the dataframe to a numpy array\n",
    "dataset = data.values"
   ]
  },
  {
   "cell_type": "code",
   "execution_count": 6,
   "id": "44d20b52",
   "metadata": {},
   "outputs": [],
   "source": [
    "# scaler = MinMaxScaler(feature_range=(0,1))\n",
    "scaler = StandardScaler()\n",
    "scaled_data = scaler.fit_transform(dataset)"
   ]
  },
  {
   "cell_type": "code",
   "execution_count": 7,
   "id": "4ed64507",
   "metadata": {},
   "outputs": [
    {
     "data": {
      "text/plain": [
       "array([[ 4.06607813],\n",
       "       [ 4.07990553],\n",
       "       [ 3.9416315 ],\n",
       "       ...,\n",
       "       [-1.11919787],\n",
       "       [-1.11919787],\n",
       "       [-1.11919787]])"
      ]
     },
     "execution_count": 7,
     "metadata": {},
     "output_type": "execute_result"
    }
   ],
   "source": [
    "scaled_data"
   ]
  },
  {
   "cell_type": "markdown",
   "id": "2b4cefe5",
   "metadata": {
    "id": "2b4cefe5"
   },
   "source": [
    "## 2. [Nested CV - Predict Second Half](#2-bullet)"
   ]
  },
  {
   "cell_type": "markdown",
   "id": "a0975e52",
   "metadata": {
    "id": "a0975e52"
   },
   "source": [
    "We try to use nested CV for time series to try to tune hyperparameters. After getting best hyperparameters, we retrain model and then evaluate"
   ]
  },
  {
   "cell_type": "markdown",
   "id": "99b3b3ad",
   "metadata": {
    "id": "99b3b3ad"
   },
   "source": [
    "### Create dataset"
   ]
  },
  {
   "cell_type": "code",
   "execution_count": 8,
   "id": "63b15be3",
   "metadata": {
    "execution": {
     "iopub.execute_input": "2023-06-28T15:10:02.059396Z",
     "iopub.status.busy": "2023-06-28T15:10:02.058921Z",
     "iopub.status.idle": "2023-06-28T15:10:02.068384Z",
     "shell.execute_reply": "2023-06-28T15:10:02.066372Z",
     "shell.execute_reply.started": "2023-06-28T15:10:02.059364Z"
    },
    "executionInfo": {
     "elapsed": 13,
     "status": "ok",
     "timestamp": 1747646971031,
     "user": {
      "displayName": "Huyền Nguyễn",
      "userId": "09553267781969793717"
     },
     "user_tz": -420
    },
    "id": "63b15be3"
   },
   "outputs": [],
   "source": [
    "def create_dataset(dataset, time_step=1):\n",
    "    dataX, dataY = [], []\n",
    "    for i in range(len(dataset)-time_step-1):\n",
    "        a = dataset[i:(i+time_step), 0]\n",
    "        dataX.append(a)\n",
    "        dataY.append(dataset[i + time_step, 0])\n",
    "    return np.array(dataX), np.array(dataY)"
   ]
  },
  {
   "cell_type": "code",
   "execution_count": 9,
   "id": "7b16cf22",
   "metadata": {
    "execution": {
     "iopub.execute_input": "2023-06-28T15:10:02.259895Z",
     "iopub.status.busy": "2023-06-28T15:10:02.259323Z",
     "iopub.status.idle": "2023-06-28T15:10:02.275725Z",
     "shell.execute_reply": "2023-06-28T15:10:02.274212Z",
     "shell.execute_reply.started": "2023-06-28T15:10:02.259854Z"
    },
    "executionInfo": {
     "elapsed": 15,
     "status": "ok",
     "timestamp": 1747646973175,
     "user": {
      "displayName": "Huyền Nguyễn",
      "userId": "09553267781969793717"
     },
     "user_tz": -420
    },
    "id": "7b16cf22"
   },
   "outputs": [],
   "source": [
    "time_step = 30\n",
    "x_for_train, y_for_train = create_dataset(scaled_data, time_step)\n",
    "\n",
    "x_for_train =x_for_train.reshape(x_for_train.shape[0],x_for_train.shape[1])\n",
    "y_for_train = y_for_train.reshape(y_for_train.shape[0],1)"
   ]
  },
  {
   "cell_type": "markdown",
   "id": "29ba2aab",
   "metadata": {
    "id": "29ba2aab"
   },
   "source": [
    "### Predict Second Half"
   ]
  },
  {
   "cell_type": "code",
   "execution_count": 10,
   "id": "c51d50cf",
   "metadata": {
    "execution": {
     "iopub.execute_input": "2023-06-28T15:10:02.597711Z",
     "iopub.status.busy": "2023-06-28T15:10:02.597184Z",
     "iopub.status.idle": "2023-06-28T15:10:02.608467Z",
     "shell.execute_reply": "2023-06-28T15:10:02.606779Z",
     "shell.execute_reply.started": "2023-06-28T15:10:02.597673Z"
    },
    "executionInfo": {
     "elapsed": 16,
     "status": "ok",
     "timestamp": 1747646975078,
     "user": {
      "displayName": "Huyền Nguyễn",
      "userId": "09553267781969793717"
     },
     "user_tz": -420
    },
    "id": "c51d50cf"
   },
   "outputs": [],
   "source": [
    "def performSVR(X_train, Y_train, X_test, Y_test, parameters):\n",
    "\n",
    "    # Create and train the SVR model\n",
    "    svr_model = SVR(C = parameters['C'], kernel = parameters['kernel'], gamma = parameters['gamma'])\n",
    "    svr_model.fit(X_train, Y_train)\n",
    "\n",
    "    # Make predictions on the test set\n",
    "    Y_pred_train = svr_model.predict(X_train)\n",
    "    Y_pred_test = svr_model.predict(X_test)\n",
    "\n",
    "    # Calculate accuracy\n",
    "    accuracy_train = r2_score(Y_train, Y_pred_train)\n",
    "    accuracy_valid = r2_score(Y_test, Y_pred_test)\n",
    "\n",
    "    mse_train = mean_squared_error(Y_train, Y_pred_train)\n",
    "    mse_valid = mean_squared_error(Y_test, Y_pred_test)\n",
    "\n",
    "    return [accuracy_train, accuracy_valid, mse_train, mse_valid]"
   ]
  },
  {
   "cell_type": "code",
   "execution_count": 11,
   "id": "59f7b4d9",
   "metadata": {
    "execution": {
     "iopub.execute_input": "2023-06-28T15:15:37.977118Z",
     "iopub.status.busy": "2023-06-28T15:15:37.975704Z",
     "iopub.status.idle": "2023-06-28T15:15:37.985435Z",
     "shell.execute_reply": "2023-06-28T15:15:37.983846Z",
     "shell.execute_reply.started": "2023-06-28T15:15:37.977075Z"
    },
    "executionInfo": {
     "elapsed": 17,
     "status": "ok",
     "timestamp": 1747646977326,
     "user": {
      "displayName": "Huyền Nguyễn",
      "userId": "09553267781969793717"
     },
     "user_tz": -420
    },
    "id": "59f7b4d9"
   },
   "outputs": [],
   "source": [
    "def predict_second_half(X, y, params):\n",
    "    train_size = len(X) // 2\n",
    "    X_train, X_test, y_train, y_test = train_test_split(X, y, train_size= 0.5, shuffle=False)\n",
    "\n",
    "    # Assuming you have a validation set stored in variables called 'val_data' and 'val_target'\n",
    "    # Splitting the training set into training and validation subsets\n",
    "    X_sub_train, x_val, y_sub_train, y_val = train_test_split(X_train, y_train, test_size=0.5, shuffle=False)\n",
    "\n",
    "    # Training and evaluating the model\n",
    "    accuracy_train, accuracy_valid, mse_train, mse_valid = performSVR(X_sub_train, y_sub_train, x_val, y_val, params)\n",
    "\n",
    "\n",
    "    return accuracy_train, accuracy_valid, mse_train, mse_valid\n",
    "\n"
   ]
  },
  {
   "cell_type": "code",
   "execution_count": 12,
   "id": "7cf51c99",
   "metadata": {
    "colab": {
     "base_uri": "https://localhost:8080/"
    },
    "executionInfo": {
     "elapsed": 30311,
     "status": "ok",
     "timestamp": 1747647009793,
     "user": {
      "displayName": "Huyền Nguyễn",
      "userId": "09553267781969793717"
     },
     "user_tz": -420
    },
    "id": "7cf51c99",
    "outputId": "aca08cfe-7683-4a52-d214-193ff22daede"
   },
   "outputs": [
    {
     "name": "stdout",
     "output_type": "stream",
     "text": [
      "Evaluating parameters 1: {'C': 0.01, 'gamma': 0.01, 'kernel': 'linear'}\n",
      "Evaluating parameters 2: {'C': 0.01, 'gamma': 0.01, 'kernel': 'rbf'}\n",
      "Evaluating parameters 3: {'C': 0.01, 'gamma': 0.01, 'kernel': 'sigmoid'}\n",
      "Evaluating parameters 4: {'C': 0.01, 'gamma': 0.001, 'kernel': 'linear'}\n",
      "Evaluating parameters 5: {'C': 0.01, 'gamma': 0.001, 'kernel': 'rbf'}\n",
      "Evaluating parameters 6: {'C': 0.01, 'gamma': 0.001, 'kernel': 'sigmoid'}\n",
      "Evaluating parameters 7: {'C': 0.01, 'gamma': 1, 'kernel': 'linear'}\n",
      "Evaluating parameters 8: {'C': 0.01, 'gamma': 1, 'kernel': 'rbf'}\n",
      "Evaluating parameters 9: {'C': 0.01, 'gamma': 1, 'kernel': 'sigmoid'}\n",
      "Evaluating parameters 10: {'C': 0.1, 'gamma': 0.01, 'kernel': 'linear'}\n",
      "Evaluating parameters 11: {'C': 0.1, 'gamma': 0.01, 'kernel': 'rbf'}\n",
      "Evaluating parameters 12: {'C': 0.1, 'gamma': 0.01, 'kernel': 'sigmoid'}\n",
      "Evaluating parameters 13: {'C': 0.1, 'gamma': 0.001, 'kernel': 'linear'}\n",
      "Evaluating parameters 14: {'C': 0.1, 'gamma': 0.001, 'kernel': 'rbf'}\n",
      "Evaluating parameters 15: {'C': 0.1, 'gamma': 0.001, 'kernel': 'sigmoid'}\n",
      "Evaluating parameters 16: {'C': 0.1, 'gamma': 1, 'kernel': 'linear'}\n",
      "Evaluating parameters 17: {'C': 0.1, 'gamma': 1, 'kernel': 'rbf'}\n",
      "Evaluating parameters 18: {'C': 0.1, 'gamma': 1, 'kernel': 'sigmoid'}\n",
      "Evaluating parameters 19: {'C': 1, 'gamma': 0.01, 'kernel': 'linear'}\n",
      "Evaluating parameters 20: {'C': 1, 'gamma': 0.01, 'kernel': 'rbf'}\n",
      "Evaluating parameters 21: {'C': 1, 'gamma': 0.01, 'kernel': 'sigmoid'}\n",
      "Evaluating parameters 22: {'C': 1, 'gamma': 0.001, 'kernel': 'linear'}\n",
      "Evaluating parameters 23: {'C': 1, 'gamma': 0.001, 'kernel': 'rbf'}\n",
      "Evaluating parameters 24: {'C': 1, 'gamma': 0.001, 'kernel': 'sigmoid'}\n",
      "Evaluating parameters 25: {'C': 1, 'gamma': 1, 'kernel': 'linear'}\n",
      "Evaluating parameters 26: {'C': 1, 'gamma': 1, 'kernel': 'rbf'}\n",
      "Evaluating parameters 27: {'C': 1, 'gamma': 1, 'kernel': 'sigmoid'}\n",
      "Evaluating parameters 28: {'C': 100, 'gamma': 0.01, 'kernel': 'linear'}\n",
      "Evaluating parameters 29: {'C': 100, 'gamma': 0.01, 'kernel': 'rbf'}\n",
      "Evaluating parameters 30: {'C': 100, 'gamma': 0.01, 'kernel': 'sigmoid'}\n",
      "Evaluating parameters 31: {'C': 100, 'gamma': 0.001, 'kernel': 'linear'}\n",
      "Evaluating parameters 32: {'C': 100, 'gamma': 0.001, 'kernel': 'rbf'}\n",
      "Evaluating parameters 33: {'C': 100, 'gamma': 0.001, 'kernel': 'sigmoid'}\n",
      "Evaluating parameters 34: {'C': 100, 'gamma': 1, 'kernel': 'linear'}\n",
      "Evaluating parameters 35: {'C': 100, 'gamma': 1, 'kernel': 'rbf'}\n",
      "Evaluating parameters 36: {'C': 100, 'gamma': 1, 'kernel': 'sigmoid'}\n",
      "Parameters:  {'C': 0.01, 'gamma': 0.01, 'kernel': 'linear'}\n",
      "Train Accuracy:  0.9848754256735683\n",
      "Valid Accuracy:  0.9597922828738842\n",
      "Train MSE:  0.01933533145239665\n",
      "Valid MSE:  0.003801962630211375\n",
      "------------------------\n",
      "Parameters:  {'C': 0.01, 'gamma': 0.01, 'kernel': 'rbf'}\n",
      "Train Accuracy:  0.45098363480363324\n",
      "Valid Accuracy:  -2.0567157250255463\n",
      "Train MSE:  0.7018652667341737\n",
      "Valid MSE:  0.2890370254365462\n",
      "------------------------\n",
      "Parameters:  {'C': 0.01, 'gamma': 0.01, 'kernel': 'sigmoid'}\n",
      "Train Accuracy:  0.10029885400187621\n",
      "Valid Accuracy:  0.796172309187815\n",
      "Train MSE:  1.1501824441811626\n",
      "Valid MSE:  0.019273545449981812\n",
      "------------------------\n",
      "Parameters:  {'C': 0.01, 'gamma': 0.001, 'kernel': 'linear'}\n",
      "Train Accuracy:  0.9848754256735683\n",
      "Valid Accuracy:  0.9597922828738842\n",
      "Train MSE:  0.01933533145239665\n",
      "Valid MSE:  0.003801962630211375\n",
      "------------------------\n",
      "Parameters:  {'C': 0.01, 'gamma': 0.001, 'kernel': 'rbf'}\n",
      "Train Accuracy:  0.35838807672735684\n",
      "Valid Accuracy:  -4.31023125050948\n",
      "Train MSE:  0.8202398912216615\n",
      "Valid MSE:  0.5021250201520207\n",
      "------------------------\n",
      "Parameters:  {'C': 0.01, 'gamma': 0.001, 'kernel': 'sigmoid'}\n",
      "Train Accuracy:  0.2392748812296558\n",
      "Valid Accuracy:  -5.531258892822687\n",
      "Train MSE:  0.9725147959954964\n",
      "Valid MSE:  0.6175829918634919\n",
      "------------------------\n",
      "Parameters:  {'C': 0.01, 'gamma': 1, 'kernel': 'linear'}\n",
      "Train Accuracy:  0.9848754256735683\n",
      "Valid Accuracy:  0.9597922828738842\n",
      "Train MSE:  0.01933533145239665\n",
      "Valid MSE:  0.003801962630211375\n",
      "------------------------\n",
      "Parameters:  {'C': 0.01, 'gamma': 1, 'kernel': 'rbf'}\n",
      "Train Accuracy:  0.15428904042205238\n",
      "Valid Accuracy:  -8.868437930981937\n",
      "Train MSE:  1.0811611198727857\n",
      "Valid MSE:  0.9331400764303541\n",
      "------------------------\n",
      "Parameters:  {'C': 0.01, 'gamma': 1, 'kernel': 'sigmoid'}\n",
      "Train Accuracy:  -0.2336518252804829\n",
      "Valid Accuracy:  -16.74283862567176\n",
      "Train MSE:  1.577106662563501\n",
      "Valid MSE:  1.6777279146957518\n",
      "------------------------\n",
      "Parameters:  {'C': 0.1, 'gamma': 0.01, 'kernel': 'linear'}\n",
      "Train Accuracy:  0.9905196025994151\n",
      "Valid Accuracy:  0.972121228248139\n",
      "Train MSE:  0.012119787445548286\n",
      "Valid MSE:  0.0026361618105376753\n",
      "------------------------\n",
      "Parameters:  {'C': 0.1, 'gamma': 0.01, 'kernel': 'rbf'}\n",
      "Train Accuracy:  0.9200405217069882\n",
      "Valid Accuracy:  -0.3106180248021284\n",
      "Train MSE:  0.10222059690329513\n",
      "Valid MSE:  0.12392946202714443\n",
      "------------------------\n",
      "Parameters:  {'C': 0.1, 'gamma': 0.01, 'kernel': 'sigmoid'}\n",
      "Train Accuracy:  -9.394675508886888\n",
      "Valid Accuracy:  -126.11158303695574\n",
      "Train MSE:  13.288605151233767\n",
      "Valid MSE:  12.019421223484946\n",
      "------------------------\n",
      "Parameters:  {'C': 0.1, 'gamma': 0.001, 'kernel': 'linear'}\n",
      "Train Accuracy:  0.9905196025994151\n",
      "Valid Accuracy:  0.972121228248139\n",
      "Train MSE:  0.012119787445548286\n",
      "Valid MSE:  0.0026361618105376753\n",
      "------------------------\n",
      "Parameters:  {'C': 0.1, 'gamma': 0.001, 'kernel': 'rbf'}\n",
      "Train Accuracy:  0.8523102949231588\n",
      "Valid Accuracy:  0.3269272560674671\n",
      "Train MSE:  0.1888072575224112\n",
      "Valid MSE:  0.0636444345203372\n",
      "------------------------\n",
      "Parameters:  {'C': 0.1, 'gamma': 0.001, 'kernel': 'sigmoid'}\n",
      "Train Accuracy:  0.8073572559383724\n",
      "Valid Accuracy:  0.3418465973327419\n",
      "Train MSE:  0.24627544735730625\n",
      "Valid MSE:  0.06223369096133264\n",
      "------------------------\n",
      "Parameters:  {'C': 0.1, 'gamma': 1, 'kernel': 'linear'}\n",
      "Train Accuracy:  0.9905196025994151\n",
      "Valid Accuracy:  0.972121228248139\n",
      "Train MSE:  0.012119787445548286\n",
      "Valid MSE:  0.0026361618105376753\n",
      "------------------------\n",
      "Parameters:  {'C': 0.1, 'gamma': 1, 'kernel': 'rbf'}\n",
      "Train Accuracy:  0.44885682100223456\n",
      "Valid Accuracy:  -14.270573828964155\n",
      "Train MSE:  0.7045841961334434\n",
      "Valid MSE:  1.44395541924203\n",
      "------------------------\n",
      "Parameters:  {'C': 0.1, 'gamma': 1, 'kernel': 'sigmoid'}\n",
      "Train Accuracy:  -11.325186245074347\n",
      "Valid Accuracy:  -424.1238746424097\n",
      "Train MSE:  15.756579730284374\n",
      "Valid MSE:  40.19887723372585\n",
      "------------------------\n",
      "Parameters:  {'C': 1, 'gamma': 0.01, 'kernel': 'linear'}\n",
      "Train Accuracy:  0.9912542670861973\n",
      "Valid Accuracy:  0.9751413634166802\n",
      "Train MSE:  0.011180588691807849\n",
      "Valid MSE:  0.00235058377055681\n",
      "------------------------\n",
      "Parameters:  {'C': 1, 'gamma': 0.01, 'kernel': 'rbf'}\n",
      "Train Accuracy:  0.9885308714776267\n",
      "Valid Accuracy:  0.4092389121707778\n",
      "Train MSE:  0.014662191256693848\n",
      "Valid MSE:  0.055861206252141596\n",
      "------------------------\n",
      "Parameters:  {'C': 1, 'gamma': 0.01, 'kernel': 'sigmoid'}\n",
      "Train Accuracy:  -722.1592227977872\n",
      "Valid Accuracy:  -14294.537234021174\n",
      "Train MSE:  924.4903667283351\n",
      "Valid MSE:  1351.7578770280768\n",
      "------------------------\n",
      "Parameters:  {'C': 1, 'gamma': 0.001, 'kernel': 'linear'}\n",
      "Train Accuracy:  0.9912542670861973\n",
      "Valid Accuracy:  0.9751413634166802\n",
      "Train MSE:  0.011180588691807849\n",
      "Valid MSE:  0.00235058377055681\n",
      "------------------------\n",
      "Parameters:  {'C': 1, 'gamma': 0.001, 'kernel': 'rbf'}\n",
      "Train Accuracy:  0.9657116321694738\n",
      "Valid Accuracy:  0.7103533478454519\n",
      "Train MSE:  0.043834420900448284\n",
      "Valid MSE:  0.02738841760160896\n",
      "------------------------\n",
      "Parameters:  {'C': 1, 'gamma': 0.001, 'kernel': 'sigmoid'}\n",
      "Train Accuracy:  0.10096381267418053\n",
      "Valid Accuracy:  0.27867571883887887\n",
      "Train MSE:  1.149332357689229\n",
      "Valid MSE:  0.0682070049547126\n",
      "------------------------\n",
      "Parameters:  {'C': 1, 'gamma': 1, 'kernel': 'linear'}\n",
      "Train Accuracy:  0.9912542670861973\n",
      "Valid Accuracy:  0.9751413634166802\n",
      "Train MSE:  0.011180588691807849\n",
      "Valid MSE:  0.00235058377055681\n",
      "------------------------\n",
      "Parameters:  {'C': 1, 'gamma': 1, 'kernel': 'rbf'}\n",
      "Train Accuracy:  0.8502316015654096\n",
      "Valid Accuracy:  -29.66197451971572\n",
      "Train MSE:  0.19146466950588353\n",
      "Valid MSE:  2.8993359888302126\n",
      "------------------------\n",
      "Parameters:  {'C': 1, 'gamma': 1, 'kernel': 'sigmoid'}\n",
      "Train Accuracy:  -1026.6196126817529\n",
      "Valid Accuracy:  -37115.714253428014\n",
      "Train MSE:  1313.7140516716236\n",
      "Valid MSE:  3509.6834795454947\n",
      "------------------------\n",
      "Parameters:  {'C': 100, 'gamma': 0.01, 'kernel': 'linear'}\n",
      "Train Accuracy:  0.9912464439392514\n",
      "Valid Accuracy:  0.9748439283604545\n",
      "Train MSE:  0.011190589841984714\n",
      "Valid MSE:  0.0023787086443251533\n",
      "------------------------\n",
      "Parameters:  {'C': 100, 'gamma': 0.01, 'kernel': 'rbf'}\n",
      "Train Accuracy:  0.9954906380490272\n",
      "Valid Accuracy:  0.8155223091200919\n",
      "Train MSE:  0.00576479086809816\n",
      "Valid MSE:  0.017443847523925585\n",
      "------------------------\n",
      "Parameters:  {'C': 100, 'gamma': 0.01, 'kernel': 'sigmoid'}\n",
      "Train Accuracy:  -6913785.4506742805\n",
      "Valid Accuracy:  -144551512.39391932\n",
      "Train MSE:  8838619.17232651\n",
      "Valid MSE:  13668506.728207553\n",
      "------------------------\n",
      "Parameters:  {'C': 100, 'gamma': 0.001, 'kernel': 'linear'}\n",
      "Train Accuracy:  0.9912464439392514\n",
      "Valid Accuracy:  0.9748439283604545\n",
      "Train MSE:  0.011190589841984714\n",
      "Valid MSE:  0.0023787086443251533\n",
      "------------------------\n",
      "Parameters:  {'C': 100, 'gamma': 0.001, 'kernel': 'rbf'}\n",
      "Train Accuracy:  0.9924421168756596\n",
      "Valid Accuracy:  0.9754736526472271\n",
      "Train MSE:  0.00966203558087665\n",
      "Valid MSE:  0.0023191631546338035\n",
      "------------------------\n",
      "Parameters:  {'C': 100, 'gamma': 0.001, 'kernel': 'sigmoid'}\n",
      "Train Accuracy:  -12159.738899301632\n",
      "Valid Accuracy:  -6593.51510807885\n",
      "Train MSE:  15546.34942109639\n",
      "Valid MSE:  623.5643751332306\n",
      "------------------------\n",
      "Parameters:  {'C': 100, 'gamma': 1, 'kernel': 'linear'}\n",
      "Train Accuracy:  0.9912464439392514\n",
      "Valid Accuracy:  0.9748439283604545\n",
      "Train MSE:  0.011190589841984714\n",
      "Valid MSE:  0.0023787086443251533\n",
      "------------------------\n",
      "Parameters:  {'C': 100, 'gamma': 1, 'kernel': 'rbf'}\n",
      "Train Accuracy:  0.9946911270276056\n",
      "Valid Accuracy:  -42.092787385051956\n",
      "Train MSE:  0.0067868897559996404\n",
      "Valid MSE:  4.074769198055159\n",
      "------------------------\n",
      "Parameters:  {'C': 100, 'gamma': 1, 'kernel': 'sigmoid'}\n",
      "Train Accuracy:  -10126010.87387785\n",
      "Valid Accuracy:  -365038662.6111411\n",
      "Train MSE:  12945144.216731483\n",
      "Valid MSE:  34517337.88512977\n",
      "------------------------\n",
      "Best Parameters:  {'C': 100, 'gamma': 0.001, 'kernel': 'rbf'}\n"
     ]
    }
   ],
   "source": [
    "from sklearn.model_selection import ParameterGrid\n",
    "\n",
    "# Định nghĩa siêu tham số để tinh chỉnh\n",
    "param_grid = {\n",
    "    'C': [0.01, 0.1, 1, 100],\n",
    "    'kernel': ['linear', 'rbf', 'sigmoid'],\n",
    "    'gamma' : [0.01, 0.001, 1]\n",
    "}\n",
    "\n",
    "# Chuyển đổi siêu tham số thành danh sách các tham số có thể\n",
    "param_list = list(ParameterGrid(param_grid))\n",
    "\n",
    "# Lưu kết quả của các mô hình đã được đánh giá\n",
    "results = []\n",
    "\n",
    "# Lặp qua từng bộ tham số để đánh giá mô hình\n",
    "for i,params in enumerate(param_list):\n",
    "    print(f\"Evaluating parameters {i+1}: {params}\")\n",
    "\n",
    "    # Thực hiện Cross Validation với mô hình SVR và siêu tham số tương ứng\n",
    "    accuracy_train, accuracy_valid, mse_train, mse_valid = predict_second_half(x_for_train, y_for_train, params)\n",
    "\n",
    "    # Lưu kết quả vào danh sách\n",
    "    results.append({\n",
    "        'parameters': params,\n",
    "        'accuracy_train': accuracy_train,\n",
    "        'accuracy_valid': accuracy_valid,\n",
    "        'mse_train': mse_train,\n",
    "        'mse_valid': mse_valid\n",
    "    })\n",
    "\n",
    "# In kết quả của các mô hình đã đánh giá\n",
    "for result in results:\n",
    "    print(\"Parameters: \", result['parameters'])\n",
    "    print(\"Train Accuracy: \", result['accuracy_train'])\n",
    "    print(\"Valid Accuracy: \", result['accuracy_valid'])\n",
    "    print(\"Train MSE: \", result['mse_train'])\n",
    "    print(\"Valid MSE: \", result['mse_valid'])\n",
    "    print(\"------------------------\")\n",
    "\n",
    "# Sắp xếp danh sách kết quả theo trường 'accuracy_valid' tăng dần\n",
    "sorted_results = sorted(results, key=lambda x: x['mse_valid'], reverse=False)\n",
    "\n",
    "# Lấy bộ tham số đầu tiên từ danh sách đã sắp xếp\n",
    "best_parameters = sorted_results[0]['parameters']\n",
    "\n",
    "# In ra bộ tham số có accuracy_valid lớn nhất\n",
    "print(\"Best Parameters: \", best_parameters)"
   ]
  },
  {
   "cell_type": "markdown",
   "id": "23d60c01",
   "metadata": {
    "id": "23d60c01"
   },
   "source": [
    "## 3. [Retrain and Evaluate Model](#4-bullet)"
   ]
  },
  {
   "cell_type": "markdown",
   "id": "c20de1f7",
   "metadata": {
    "id": "c20de1f7"
   },
   "source": [
    "### Create training and testing data"
   ]
  },
  {
   "cell_type": "code",
   "execution_count": 13,
   "id": "0e45c068",
   "metadata": {
    "colab": {
     "base_uri": "https://localhost:8080/"
    },
    "execution": {
     "iopub.execute_input": "2023-06-28T15:19:22.906088Z",
     "iopub.status.busy": "2023-06-28T15:19:22.905629Z",
     "iopub.status.idle": "2023-06-28T15:19:22.913869Z",
     "shell.execute_reply": "2023-06-28T15:19:22.912637Z",
     "shell.execute_reply.started": "2023-06-28T15:19:22.906056Z"
    },
    "executionInfo": {
     "elapsed": 14,
     "status": "ok",
     "timestamp": 1747647255684,
     "user": {
      "displayName": "Huyền Nguyễn",
      "userId": "09553267781969793717"
     },
     "user_tz": -420
    },
    "id": "0e45c068",
    "outputId": "1fbb7973-cfd1-41d5-8707-8248371617a1"
   },
   "outputs": [
    {
     "name": "stdout",
     "output_type": "stream",
     "text": [
      "train_data:  (1768, 1)\n",
      "test_data:  (1769, 1)\n"
     ]
    }
   ],
   "source": [
    "training_size=int(len(dataset)*0.5)\n",
    "test_size=len(dataset)-training_size\n",
    "train_data,test_data=scaled_data[0:training_size],scaled_data[training_size:len(dataset)]\n",
    "print(\"train_data: \", train_data.shape)\n",
    "print(\"test_data: \", test_data.shape)"
   ]
  },
  {
   "cell_type": "code",
   "execution_count": 14,
   "id": "4f76f321",
   "metadata": {
    "colab": {
     "base_uri": "https://localhost:8080/"
    },
    "execution": {
     "iopub.execute_input": "2023-06-28T15:19:23.205334Z",
     "iopub.status.busy": "2023-06-28T15:19:23.204902Z",
     "iopub.status.idle": "2023-06-28T15:19:23.221660Z",
     "shell.execute_reply": "2023-06-28T15:19:23.220596Z",
     "shell.execute_reply.started": "2023-06-28T15:19:23.205301Z"
    },
    "executionInfo": {
     "elapsed": 34,
     "status": "ok",
     "timestamp": 1747647258254,
     "user": {
      "displayName": "Huyền Nguyễn",
      "userId": "09553267781969793717"
     },
     "user_tz": -420
    },
    "id": "4f76f321",
    "outputId": "3765802e-474e-463d-8f5f-605639ebbcde"
   },
   "outputs": [
    {
     "name": "stdout",
     "output_type": "stream",
     "text": [
      "x_train:  (1737, 30)\n",
      "y_train:  (1737, 1)\n",
      "x_test:  (1738, 30)\n",
      "y_test (1738, 1)\n"
     ]
    }
   ],
   "source": [
    "x_train, y_train = create_dataset(train_data, time_step)\n",
    "x_test, y_test = create_dataset(test_data, time_step)\n",
    "\n",
    "x_train =x_train.reshape(x_train.shape[0],x_train.shape[1])\n",
    "x_test = x_test.reshape(x_test.shape[0],x_test.shape[1])\n",
    "y_train = y_train.reshape(y_train.shape[0],1)\n",
    "y_test = y_test.reshape(y_test.shape[0],1)\n",
    "\n",
    "print(\"x_train: \", x_train.shape)\n",
    "print(\"y_train: \", y_train.shape)\n",
    "print(\"x_test: \", x_test.shape)\n",
    "print(\"y_test\", y_test.shape)"
   ]
  },
  {
   "cell_type": "markdown",
   "id": "efde7cb5",
   "metadata": {
    "id": "efde7cb5"
   },
   "source": [
    "### Building model"
   ]
  },
  {
   "cell_type": "markdown",
   "id": "6d35fef0",
   "metadata": {
    "id": "6d35fef0"
   },
   "source": [
    "Using best hyperparameters after tuning to retrain model"
   ]
  },
  {
   "cell_type": "code",
   "execution_count": 15,
   "id": "49cc5abc",
   "metadata": {
    "colab": {
     "base_uri": "https://localhost:8080/",
     "height": 80
    },
    "execution": {
     "iopub.execute_input": "2023-06-28T15:19:24.541142Z",
     "iopub.status.busy": "2023-06-28T15:19:24.540524Z",
     "iopub.status.idle": "2023-06-28T15:19:24.570239Z",
     "shell.execute_reply": "2023-06-28T15:19:24.569015Z",
     "shell.execute_reply.started": "2023-06-28T15:19:24.541111Z"
    },
    "executionInfo": {
     "elapsed": 265,
     "status": "ok",
     "timestamp": 1747647261196,
     "user": {
      "displayName": "Huyền Nguyễn",
      "userId": "09553267781969793717"
     },
     "user_tz": -420
    },
    "id": "49cc5abc",
    "outputId": "00fe5e28-dad3-42c5-cb9d-62a277018323"
   },
   "outputs": [
    {
     "data": {
      "text/html": [
       "<style>#sk-container-id-1 {color: black;}#sk-container-id-1 pre{padding: 0;}#sk-container-id-1 div.sk-toggleable {background-color: white;}#sk-container-id-1 label.sk-toggleable__label {cursor: pointer;display: block;width: 100%;margin-bottom: 0;padding: 0.3em;box-sizing: border-box;text-align: center;}#sk-container-id-1 label.sk-toggleable__label-arrow:before {content: \"▸\";float: left;margin-right: 0.25em;color: #696969;}#sk-container-id-1 label.sk-toggleable__label-arrow:hover:before {color: black;}#sk-container-id-1 div.sk-estimator:hover label.sk-toggleable__label-arrow:before {color: black;}#sk-container-id-1 div.sk-toggleable__content {max-height: 0;max-width: 0;overflow: hidden;text-align: left;background-color: #f0f8ff;}#sk-container-id-1 div.sk-toggleable__content pre {margin: 0.2em;color: black;border-radius: 0.25em;background-color: #f0f8ff;}#sk-container-id-1 input.sk-toggleable__control:checked~div.sk-toggleable__content {max-height: 200px;max-width: 100%;overflow: auto;}#sk-container-id-1 input.sk-toggleable__control:checked~label.sk-toggleable__label-arrow:before {content: \"▾\";}#sk-container-id-1 div.sk-estimator input.sk-toggleable__control:checked~label.sk-toggleable__label {background-color: #d4ebff;}#sk-container-id-1 div.sk-label input.sk-toggleable__control:checked~label.sk-toggleable__label {background-color: #d4ebff;}#sk-container-id-1 input.sk-hidden--visually {border: 0;clip: rect(1px 1px 1px 1px);clip: rect(1px, 1px, 1px, 1px);height: 1px;margin: -1px;overflow: hidden;padding: 0;position: absolute;width: 1px;}#sk-container-id-1 div.sk-estimator {font-family: monospace;background-color: #f0f8ff;border: 1px dotted black;border-radius: 0.25em;box-sizing: border-box;margin-bottom: 0.5em;}#sk-container-id-1 div.sk-estimator:hover {background-color: #d4ebff;}#sk-container-id-1 div.sk-parallel-item::after {content: \"\";width: 100%;border-bottom: 1px solid gray;flex-grow: 1;}#sk-container-id-1 div.sk-label:hover label.sk-toggleable__label {background-color: #d4ebff;}#sk-container-id-1 div.sk-serial::before {content: \"\";position: absolute;border-left: 1px solid gray;box-sizing: border-box;top: 0;bottom: 0;left: 50%;z-index: 0;}#sk-container-id-1 div.sk-serial {display: flex;flex-direction: column;align-items: center;background-color: white;padding-right: 0.2em;padding-left: 0.2em;position: relative;}#sk-container-id-1 div.sk-item {position: relative;z-index: 1;}#sk-container-id-1 div.sk-parallel {display: flex;align-items: stretch;justify-content: center;background-color: white;position: relative;}#sk-container-id-1 div.sk-item::before, #sk-container-id-1 div.sk-parallel-item::before {content: \"\";position: absolute;border-left: 1px solid gray;box-sizing: border-box;top: 0;bottom: 0;left: 50%;z-index: -1;}#sk-container-id-1 div.sk-parallel-item {display: flex;flex-direction: column;z-index: 1;position: relative;background-color: white;}#sk-container-id-1 div.sk-parallel-item:first-child::after {align-self: flex-end;width: 50%;}#sk-container-id-1 div.sk-parallel-item:last-child::after {align-self: flex-start;width: 50%;}#sk-container-id-1 div.sk-parallel-item:only-child::after {width: 0;}#sk-container-id-1 div.sk-dashed-wrapped {border: 1px dashed gray;margin: 0 0.4em 0.5em 0.4em;box-sizing: border-box;padding-bottom: 0.4em;background-color: white;}#sk-container-id-1 div.sk-label label {font-family: monospace;font-weight: bold;display: inline-block;line-height: 1.2em;}#sk-container-id-1 div.sk-label-container {text-align: center;}#sk-container-id-1 div.sk-container {/* jupyter's `normalize.less` sets `[hidden] { display: none; }` but bootstrap.min.css set `[hidden] { display: none !important; }` so we also need the `!important` here to be able to override the default hidden behavior on the sphinx rendered scikit-learn.org. See: https://github.com/scikit-learn/scikit-learn/issues/21755 */display: inline-block !important;position: relative;}#sk-container-id-1 div.sk-text-repr-fallback {display: none;}</style><div id=\"sk-container-id-1\" class=\"sk-top-container\"><div class=\"sk-text-repr-fallback\"><pre>SVR(C=1, gamma=0.01, kernel=&#x27;linear&#x27;)</pre><b>In a Jupyter environment, please rerun this cell to show the HTML representation or trust the notebook. <br />On GitHub, the HTML representation is unable to render, please try loading this page with nbviewer.org.</b></div><div class=\"sk-container\" hidden><div class=\"sk-item\"><div class=\"sk-estimator sk-toggleable\"><input class=\"sk-toggleable__control sk-hidden--visually\" id=\"sk-estimator-id-1\" type=\"checkbox\" checked><label for=\"sk-estimator-id-1\" class=\"sk-toggleable__label sk-toggleable__label-arrow\">SVR</label><div class=\"sk-toggleable__content\"><pre>SVR(C=1, gamma=0.01, kernel=&#x27;linear&#x27;)</pre></div></div></div></div></div>"
      ],
      "text/plain": [
       "SVR(C=1, gamma=0.01, kernel='linear')"
      ]
     },
     "execution_count": 15,
     "metadata": {},
     "output_type": "execute_result"
    }
   ],
   "source": [
    "# Create and train the SVR model\n",
    "svr_model = SVR(C = 1, kernel = 'linear', gamma = 0.01)\n",
    "svr_model.fit(x_train, y_train)"
   ]
  },
  {
   "cell_type": "code",
   "execution_count": 16,
   "id": "226abdee",
   "metadata": {
    "execution": {
     "iopub.execute_input": "2023-06-28T15:19:25.730438Z",
     "iopub.status.busy": "2023-06-28T15:19:25.729974Z",
     "iopub.status.idle": "2023-06-28T15:19:25.739731Z",
     "shell.execute_reply": "2023-06-28T15:19:25.738504Z",
     "shell.execute_reply.started": "2023-06-28T15:19:25.730405Z"
    },
    "executionInfo": {
     "elapsed": 26,
     "status": "ok",
     "timestamp": 1747647263215,
     "user": {
      "displayName": "Huyền Nguyễn",
      "userId": "09553267781969793717"
     },
     "user_tz": -420
    },
    "id": "226abdee"
   },
   "outputs": [],
   "source": [
    "predictions = svr_model.predict(x_test)\n",
    "predictions = predictions.reshape(-1,1)\n",
    "\n",
    "\n",
    "predictions_train = svr_model.predict(x_train)\n",
    "predictions_train = predictions_train.reshape(-1,1)\n"
   ]
  },
  {
   "cell_type": "code",
   "execution_count": 17,
   "id": "94596bcc",
   "metadata": {
    "executionInfo": {
     "elapsed": 7,
     "status": "ok",
     "timestamp": 1747647265133,
     "user": {
      "displayName": "Huyền Nguyễn",
      "userId": "09553267781969793717"
     },
     "user_tz": -420
    },
    "id": "94596bcc"
   },
   "outputs": [],
   "source": [
    "predictions = scaler.inverse_transform(predictions)\n",
    "predictions_train = scaler.inverse_transform(predictions_train)\n",
    "y_test = scaler.inverse_transform(y_test)\n",
    "y_train = scaler.inverse_transform(y_train)"
   ]
  },
  {
   "cell_type": "code",
   "execution_count": 18,
   "id": "0a64ba1e",
   "metadata": {
    "execution": {
     "iopub.execute_input": "2023-06-28T15:19:26.515923Z",
     "iopub.status.busy": "2023-06-28T15:19:26.515399Z",
     "iopub.status.idle": "2023-06-28T15:19:26.535565Z",
     "shell.execute_reply": "2023-06-28T15:19:26.534209Z",
     "shell.execute_reply.started": "2023-06-28T15:19:26.515885Z"
    },
    "executionInfo": {
     "elapsed": 8,
     "status": "ok",
     "timestamp": 1747647266945,
     "user": {
      "displayName": "Huyền Nguyễn",
      "userId": "09553267781969793717"
     },
     "user_tz": -420
    },
    "id": "0a64ba1e"
   },
   "outputs": [],
   "source": [
    "column_names_pred = ['Close_predict']\n",
    "df_predictions = pd.DataFrame(predictions, columns=column_names_pred)\n",
    "\n",
    "column_names_test = ['Close_test']\n",
    "df_test = pd.DataFrame(y_test, columns=column_names_test)\n",
    "\n",
    "concatenated = np.concatenate([df_predictions, df_test], axis=1)\n",
    "column_names_concat = ['Close_predict', 'Close_test']\n",
    "df_concatenated = pd.DataFrame(concatenated, columns = column_names_concat)"
   ]
  },
  {
   "cell_type": "code",
   "execution_count": 19,
   "id": "c02e6665",
   "metadata": {
    "colab": {
     "base_uri": "https://localhost:8080/",
     "height": 423
    },
    "executionInfo": {
     "elapsed": 48,
     "status": "ok",
     "timestamp": 1747647269135,
     "user": {
      "displayName": "Huyền Nguyễn",
      "userId": "09553267781969793717"
     },
     "user_tz": -420
    },
    "id": "c02e6665",
    "outputId": "5f81909c-bd17-4d92-ffec-afe0a9d0032e"
   },
   "outputs": [
    {
     "data": {
      "text/html": [
       "<div>\n",
       "<style scoped>\n",
       "    .dataframe tbody tr th:only-of-type {\n",
       "        vertical-align: middle;\n",
       "    }\n",
       "\n",
       "    .dataframe tbody tr th {\n",
       "        vertical-align: top;\n",
       "    }\n",
       "\n",
       "    .dataframe thead th {\n",
       "        text-align: right;\n",
       "    }\n",
       "</style>\n",
       "<table border=\"1\" class=\"dataframe\">\n",
       "  <thead>\n",
       "    <tr style=\"text-align: right;\">\n",
       "      <th></th>\n",
       "      <th>Close_predict</th>\n",
       "      <th>Close_test</th>\n",
       "    </tr>\n",
       "  </thead>\n",
       "  <tbody>\n",
       "    <tr>\n",
       "      <th>0</th>\n",
       "      <td>2854.443251</td>\n",
       "      <td>2800.0</td>\n",
       "    </tr>\n",
       "    <tr>\n",
       "      <th>1</th>\n",
       "      <td>2851.161491</td>\n",
       "      <td>2800.0</td>\n",
       "    </tr>\n",
       "    <tr>\n",
       "      <th>2</th>\n",
       "      <td>2826.543177</td>\n",
       "      <td>2800.0</td>\n",
       "    </tr>\n",
       "    <tr>\n",
       "      <th>3</th>\n",
       "      <td>2796.273049</td>\n",
       "      <td>2700.0</td>\n",
       "    </tr>\n",
       "    <tr>\n",
       "      <th>4</th>\n",
       "      <td>2775.942553</td>\n",
       "      <td>2700.0</td>\n",
       "    </tr>\n",
       "    <tr>\n",
       "      <th>...</th>\n",
       "      <td>...</td>\n",
       "      <td>...</td>\n",
       "    </tr>\n",
       "    <tr>\n",
       "      <th>1733</th>\n",
       "      <td>648.256823</td>\n",
       "      <td>600.0</td>\n",
       "    </tr>\n",
       "    <tr>\n",
       "      <th>1734</th>\n",
       "      <td>631.227389</td>\n",
       "      <td>600.0</td>\n",
       "    </tr>\n",
       "    <tr>\n",
       "      <th>1735</th>\n",
       "      <td>660.690960</td>\n",
       "      <td>600.0</td>\n",
       "    </tr>\n",
       "    <tr>\n",
       "      <th>1736</th>\n",
       "      <td>640.581796</td>\n",
       "      <td>600.0</td>\n",
       "    </tr>\n",
       "    <tr>\n",
       "      <th>1737</th>\n",
       "      <td>662.869379</td>\n",
       "      <td>600.0</td>\n",
       "    </tr>\n",
       "  </tbody>\n",
       "</table>\n",
       "<p>1738 rows × 2 columns</p>\n",
       "</div>"
      ],
      "text/plain": [
       "      Close_predict  Close_test\n",
       "0       2854.443251      2800.0\n",
       "1       2851.161491      2800.0\n",
       "2       2826.543177      2800.0\n",
       "3       2796.273049      2700.0\n",
       "4       2775.942553      2700.0\n",
       "...             ...         ...\n",
       "1733     648.256823       600.0\n",
       "1734     631.227389       600.0\n",
       "1735     660.690960       600.0\n",
       "1736     640.581796       600.0\n",
       "1737     662.869379       600.0\n",
       "\n",
       "[1738 rows x 2 columns]"
      ]
     },
     "execution_count": 19,
     "metadata": {},
     "output_type": "execute_result"
    }
   ],
   "source": [
    "df_concatenated"
   ]
  },
  {
   "cell_type": "code",
   "execution_count": 20,
   "id": "05fed178",
   "metadata": {
    "colab": {
     "base_uri": "https://localhost:8080/",
     "height": 352
    },
    "execution": {
     "iopub.execute_input": "2023-06-28T15:19:26.961751Z",
     "iopub.status.busy": "2023-06-28T15:19:26.961285Z",
     "iopub.status.idle": "2023-06-28T15:19:27.490678Z",
     "shell.execute_reply": "2023-06-28T15:19:27.489396Z",
     "shell.execute_reply.started": "2023-06-28T15:19:26.961714Z"
    },
    "executionInfo": {
     "elapsed": 265,
     "status": "ok",
     "timestamp": 1747647272147,
     "user": {
      "displayName": "Huyền Nguyễn",
      "userId": "09553267781969793717"
     },
     "user_tz": -420
    },
    "id": "05fed178",
    "outputId": "c0538d1f-8ef7-4931-e819-5e10e995ed4c",
    "scrolled": true
   },
   "outputs": [
    {
     "data": {
      "image/png": "[encoded data removed]",
      "text/plain": [
       "<Figure size 1600x600 with 1 Axes>"
      ]
     },
     "metadata": {},
     "output_type": "display_data"
    }
   ],
   "source": [
    "plt.figure(figsize=(16,6))\n",
    "plt.title('Close Price History')\n",
    "plt.plot(df_predictions['Close_predict'], color='red', label='Predicted Close Price')\n",
    "plt.plot(df_test['Close_test'], color='blue', label='Actual Close Price')\n",
    "plt.xlabel('Date', fontsize=18)\n",
    "plt.ylabel('Close Price USD ($)', fontsize=18)\n",
    "plt.show()"
   ]
  },
  {
   "cell_type": "markdown",
   "id": "ff5e8f83",
   "metadata": {
    "id": "ff5e8f83"
   },
   "source": [
    "### Evaluate model"
   ]
  },
  {
   "cell_type": "code",
   "execution_count": 21,
   "id": "e9463f68",
   "metadata": {
    "executionInfo": {
     "elapsed": 9,
     "status": "ok",
     "timestamp": 1747647274333,
     "user": {
      "displayName": "Huyền Nguyễn",
      "userId": "09553267781969793717"
     },
     "user_tz": -420
    },
    "id": "e9463f68"
   },
   "outputs": [],
   "source": [
    "predictions = scaler.fit_transform(predictions)\n",
    "predictions_train = scaler.fit_transform(predictions_train)\n",
    "y_test = scaler.fit_transform(y_test)\n",
    "y_train = scaler.fit_transform(y_train)"
   ]
  },
  {
   "cell_type": "code",
   "execution_count": 22,
   "id": "73753fa5",
   "metadata": {
    "colab": {
     "base_uri": "https://localhost:8080/"
    },
    "execution": {
     "iopub.execute_input": "2023-06-28T15:19:27.825496Z",
     "iopub.status.busy": "2023-06-28T15:19:27.825029Z",
     "iopub.status.idle": "2023-06-28T15:19:27.835724Z",
     "shell.execute_reply": "2023-06-28T15:19:27.834413Z",
     "shell.execute_reply.started": "2023-06-28T15:19:27.825451Z"
    },
    "executionInfo": {
     "elapsed": 28,
     "status": "ok",
     "timestamp": 1747647276617,
     "user": {
      "displayName": "Huyền Nguyễn",
      "userId": "09553267781969793717"
     },
     "user_tz": -420
    },
    "id": "73753fa5",
    "outputId": "15e1afdf-c732-43af-a470-34d975b789d5",
    "scrolled": true
   },
   "outputs": [
    {
     "name": "stdout",
     "output_type": "stream",
     "text": [
      "Train Mean Absolute Error: 0.05026181140537202\n",
      "Train Mean Squared Error: 0.006394758246602767\n",
      "Train R-squared: 0.9936052417533973\n"
     ]
    }
   ],
   "source": [
    "\n",
    "mae_train = mean_absolute_error(y_train, predictions_train)\n",
    "rmse_train = mean_squared_error(y_train, predictions_train)\n",
    "r2_train = r2_score(y_train, predictions_train)\n",
    "\n",
    "print(\"Train Mean Absolute Error:\", mae_train)\n",
    "print(\"Train Mean Squared Error:\", rmse_train)\n",
    "print(\"Train R-squared:\", r2_train)"
   ]
  },
  {
   "cell_type": "code",
   "execution_count": 23,
   "id": "1db21350",
   "metadata": {
    "colab": {
     "base_uri": "https://localhost:8080/"
    },
    "execution": {
     "iopub.execute_input": "2023-06-28T15:19:30.392591Z",
     "iopub.status.busy": "2023-06-28T15:19:30.392157Z",
     "iopub.status.idle": "2023-06-28T15:19:30.403012Z",
     "shell.execute_reply": "2023-06-28T15:19:30.401605Z",
     "shell.execute_reply.started": "2023-06-28T15:19:30.392558Z"
    },
    "executionInfo": {
     "elapsed": 47,
     "status": "ok",
     "timestamp": 1747647279123,
     "user": {
      "displayName": "Huyền Nguyễn",
      "userId": "09553267781969793717"
     },
     "user_tz": -420
    },
    "id": "1db21350",
    "outputId": "0348facd-7ebc-49b2-a297-f95945796d7a",
    "scrolled": true
   },
   "outputs": [
    {
     "name": "stdout",
     "output_type": "stream",
     "text": [
      "Test Mean Absolute Error: 0.054722321257731736\n",
      "Test Mean Squared Error: 0.010468504494660677\n",
      "Test R-squared: 0.9895314955053394\n"
     ]
    }
   ],
   "source": [
    "mae_test = mean_absolute_error(y_test, predictions)\n",
    "rmse_test = mean_squared_error(y_test, predictions)\n",
    "r2_test = r2_score(y_test, predictions)\n",
    "\n",
    "print(\"Test Mean Absolute Error:\", mae_test)\n",
    "print(\"Test Mean Squared Error:\", rmse_test)\n",
    "print(\"Test R-squared:\", r2_test)"
   ]
  }
 ],
 "metadata": {
  "colab": {
   "provenance": []
  },
  "kernelspec": {
   "display_name": "Python 3",
   "language": "python",
   "name": "python3"
  },
  "language_info": {
   "codemirror_mode": {
    "name": "ipython",
    "version": 3
   },
   "file_extension": ".py",
   "mimetype": "text/x-python",
   "name": "python",
   "nbconvert_exporter": "python",
   "pygments_lexer": "ipython3",
   "version": "3.11.5"
  }
 },
 "nbformat": 4,
 "nbformat_minor": 5
}
