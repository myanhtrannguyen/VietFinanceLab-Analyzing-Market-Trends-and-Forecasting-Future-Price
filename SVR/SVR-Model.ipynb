{
 "cells": [
  {
   "cell_type": "markdown",
   "id": "52c5ca0e",
   "metadata": {
    "id": "52c5ca0e"
   },
   "source": [
    "**Outline:**\n",
    "\n",
    "1. [Libraries and settings](#1-bullet)\n",
    "2. [Train and Evaluate Model](#2-bullet)\n",
    "3. [Predictions](#3-bullet)"
   ]
  },
  {
   "cell_type": "markdown",
   "id": "bee10d05",
   "metadata": {
    "id": "bee10d05"
   },
   "source": [
    "## 1. [Libraries and settings](#1-bullet)"
   ]
  },
  {
   "cell_type": "code",
   "execution_count": 1,
   "id": "b7c4508a",
   "metadata": {
    "colab": {
     "base_uri": "https://localhost:8080/",
     "height": 315
    },
    "executionInfo": {
     "elapsed": 41,
     "status": "error",
     "timestamp": 1747646014089,
     "user": {
      "displayName": "Huyền Nguyễn",
      "userId": "09553267781969793717"
     },
     "user_tz": -420
    },
    "id": "b7c4508a",
    "outputId": "d00b0821-37d9-4647-a314-d5da26db5fb0"
   },
   "outputs": [],
   "source": [
    "import pandas as pd\n",
    "import numpy as np\n",
    "import matplotlib.pyplot as plt\n",
    "\n",
    "from sklearn.svm import SVR\n",
    "from sklearn.preprocessing import MinMaxScaler, StandardScaler\n",
    "from sklearn.metrics import mean_squared_error, mean_absolute_error, r2_score \n",
    "from sklearn.metrics import mean_poisson_deviance, mean_gamma_deviance, accuracy_score\n",
    "\n",
    "import seaborn as sns\n",
    "sns.set_style('whitegrid')\n",
    "plt.style.use(\"fivethirtyeight\")\n",
    "\n",
    "import warnings\n",
    "warnings.filterwarnings(\"ignore\")"
   ]
  },
  {
   "cell_type": "code",
   "execution_count": null,
   "id": "b06b101e",
   "metadata": {},
   "outputs": [],
   "source": [
    "df = pd.read_csv('LCS DATASET PATH', sep='\\t', index_col=0)"
   ]
  },
  {
   "cell_type": "code",
   "execution_count": 3,
   "id": "c2fe0207",
   "metadata": {},
   "outputs": [
    {
     "data": {
      "text/html": [
       "<div>\n",
       "<style scoped>\n",
       "    .dataframe tbody tr th:only-of-type {\n",
       "        vertical-align: middle;\n",
       "    }\n",
       "\n",
       "    .dataframe tbody tr th {\n",
       "        vertical-align: top;\n",
       "    }\n",
       "\n",
       "    .dataframe thead th {\n",
       "        text-align: right;\n",
       "    }\n",
       "</style>\n",
       "<table border=\"1\" class=\"dataframe\">\n",
       "  <thead>\n",
       "    <tr style=\"text-align: right;\">\n",
       "      <th></th>\n",
       "      <th>Open</th>\n",
       "      <th>High</th>\n",
       "      <th>Low</th>\n",
       "      <th>Close</th>\n",
       "      <th>Volume</th>\n",
       "      <th>TradingDate</th>\n",
       "      <th>Code</th>\n",
       "    </tr>\n",
       "  </thead>\n",
       "  <tbody>\n",
       "    <tr>\n",
       "      <th>0</th>\n",
       "      <td>16200.0</td>\n",
       "      <td>19800.0</td>\n",
       "      <td>15750.0</td>\n",
       "      <td>19350.0</td>\n",
       "      <td>278800</td>\n",
       "      <td>2010-07-06</td>\n",
       "      <td>LCS</td>\n",
       "    </tr>\n",
       "    <tr>\n",
       "      <th>1</th>\n",
       "      <td>19400.0</td>\n",
       "      <td>19400.0</td>\n",
       "      <td>19400.0</td>\n",
       "      <td>19400.0</td>\n",
       "      <td>30700</td>\n",
       "      <td>2010-07-07</td>\n",
       "      <td>LCS</td>\n",
       "    </tr>\n",
       "    <tr>\n",
       "      <th>2</th>\n",
       "      <td>20750.0</td>\n",
       "      <td>20750.0</td>\n",
       "      <td>18450.0</td>\n",
       "      <td>18900.0</td>\n",
       "      <td>192800</td>\n",
       "      <td>2010-07-08</td>\n",
       "      <td>LCS</td>\n",
       "    </tr>\n",
       "    <tr>\n",
       "      <th>3</th>\n",
       "      <td>18900.0</td>\n",
       "      <td>18900.0</td>\n",
       "      <td>18900.0</td>\n",
       "      <td>18900.0</td>\n",
       "      <td>1000</td>\n",
       "      <td>2010-07-09</td>\n",
       "      <td>LCS</td>\n",
       "    </tr>\n",
       "    <tr>\n",
       "      <th>4</th>\n",
       "      <td>17600.0</td>\n",
       "      <td>18900.0</td>\n",
       "      <td>17600.0</td>\n",
       "      <td>18230.0</td>\n",
       "      <td>133500</td>\n",
       "      <td>2010-07-12</td>\n",
       "      <td>LCS</td>\n",
       "    </tr>\n",
       "  </tbody>\n",
       "</table>\n",
       "</div>"
      ],
      "text/plain": [
       "      Open     High      Low    Close  Volume TradingDate Code\n",
       "0  16200.0  19800.0  15750.0  19350.0  278800  2010-07-06  LCS\n",
       "1  19400.0  19400.0  19400.0  19400.0   30700  2010-07-07  LCS\n",
       "2  20750.0  20750.0  18450.0  18900.0  192800  2010-07-08  LCS\n",
       "3  18900.0  18900.0  18900.0  18900.0    1000  2010-07-09  LCS\n",
       "4  17600.0  18900.0  17600.0  18230.0  133500  2010-07-12  LCS"
      ]
     },
     "execution_count": 3,
     "metadata": {},
     "output_type": "execute_result"
    }
   ],
   "source": [
    "df.head()"
   ]
  },
  {
   "cell_type": "code",
   "execution_count": 4,
   "id": "11044a80",
   "metadata": {},
   "outputs": [],
   "source": [
    "df['TradingDate'] = pd.to_datetime(df['TradingDate'], format='%Y-%m-%d')"
   ]
  },
  {
   "cell_type": "code",
   "execution_count": 5,
   "id": "a1b81e7c",
   "metadata": {},
   "outputs": [],
   "source": [
    "df = df.dropna()"
   ]
  },
  {
   "cell_type": "code",
   "execution_count": 6,
   "id": "a9418e49",
   "metadata": {},
   "outputs": [],
   "source": [
    "# Create a new dataframe\n",
    "data = df.filter(['Close'])\n",
    "# Convert the dataframe to a numpy array\n",
    "dataset = data.values"
   ]
  },
  {
   "cell_type": "code",
   "execution_count": 7,
   "id": "e45e1677",
   "metadata": {},
   "outputs": [],
   "source": [
    "# scaler = MinMaxScaler(feature_range=(0,1))\n",
    "scaler = StandardScaler()\n",
    "scaled_data = scaler.fit_transform(dataset)"
   ]
  },
  {
   "cell_type": "code",
   "execution_count": 8,
   "id": "3f7de7c7",
   "metadata": {},
   "outputs": [
    {
     "data": {
      "text/plain": [
       "array([[ 4.06607813],\n",
       "       [ 4.07990553],\n",
       "       [ 3.9416315 ],\n",
       "       ...,\n",
       "       [-1.11919787],\n",
       "       [-1.11919787],\n",
       "       [-1.11919787]])"
      ]
     },
     "execution_count": 8,
     "metadata": {},
     "output_type": "execute_result"
    }
   ],
   "source": [
    "scaled_data"
   ]
  },
  {
   "cell_type": "markdown",
   "id": "3041e978",
   "metadata": {
    "id": "3041e978"
   },
   "source": [
    "## 2. [Train and Evaluate Model](#2-bullet)"
   ]
  },
  {
   "cell_type": "markdown",
   "id": "06f9f1c3",
   "metadata": {
    "id": "06f9f1c3"
   },
   "source": [
    "### Create dataset"
   ]
  },
  {
   "cell_type": "code",
   "execution_count": 9,
   "id": "c8ada943",
   "metadata": {
    "executionInfo": {
     "elapsed": 44,
     "status": "ok",
     "timestamp": 1747646740752,
     "user": {
      "displayName": "Huyền Nguyễn",
      "userId": "09553267781969793717"
     },
     "user_tz": -420
    },
    "id": "c8ada943"
   },
   "outputs": [],
   "source": [
    "def create_dataset(dataset, time_step=1):\n",
    "    dataX, dataY = [], []\n",
    "    for i in range(len(dataset)-time_step-1):\n",
    "        a = dataset[i:(i+time_step), 0]\n",
    "        dataX.append(a)\n",
    "        dataY.append(dataset[i + time_step, 0])\n",
    "    return np.array(dataX), np.array(dataY)"
   ]
  },
  {
   "cell_type": "code",
   "execution_count": 10,
   "id": "ddabb847",
   "metadata": {
    "executionInfo": {
     "elapsed": 28,
     "status": "ok",
     "timestamp": 1747646742666,
     "user": {
      "displayName": "Huyền Nguyễn",
      "userId": "09553267781969793717"
     },
     "user_tz": -420
    },
    "id": "ddabb847"
   },
   "outputs": [],
   "source": [
    "time_step = 30\n",
    "x_for_train, y_for_train = create_dataset(scaled_data, time_step)\n",
    "\n",
    "x_for_train = x_for_train.reshape(x_for_train.shape[0],x_for_train.shape[1])\n",
    "y_for_train = y_for_train.reshape(y_for_train.shape[0],1)"
   ]
  },
  {
   "cell_type": "code",
   "execution_count": 11,
   "id": "2ccdd641",
   "metadata": {
    "colab": {
     "base_uri": "https://localhost:8080/"
    },
    "executionInfo": {
     "elapsed": 16,
     "status": "ok",
     "timestamp": 1747646745839,
     "user": {
      "displayName": "Huyền Nguyễn",
      "userId": "09553267781969793717"
     },
     "user_tz": -420
    },
    "id": "2ccdd641",
    "outputId": "7dba1560-b289-4b44-c130-fe503acfb67c"
   },
   "outputs": [
    {
     "name": "stdout",
     "output_type": "stream",
     "text": [
      "train_data:  (2829, 1)\n",
      "test_data:  (708, 1)\n"
     ]
    }
   ],
   "source": [
    "training_size=int(len(dataset)*0.8)\n",
    "test_size=len(dataset)-training_size\n",
    "train_data,test_data=scaled_data[0:training_size],scaled_data[training_size:len(dataset)]\n",
    "print(\"train_data: \", train_data.shape)\n",
    "print(\"test_data: \", test_data.shape)"
   ]
  },
  {
   "cell_type": "code",
   "execution_count": 12,
   "id": "d678f9db",
   "metadata": {
    "colab": {
     "base_uri": "https://localhost:8080/"
    },
    "executionInfo": {
     "elapsed": 13,
     "status": "ok",
     "timestamp": 1747646748097,
     "user": {
      "displayName": "Huyền Nguyễn",
      "userId": "09553267781969793717"
     },
     "user_tz": -420
    },
    "id": "d678f9db",
    "outputId": "2a4b84ca-73cc-463b-f179-5033da4155db"
   },
   "outputs": [
    {
     "name": "stdout",
     "output_type": "stream",
     "text": [
      "x_train:  (2798, 30)\n",
      "y_train:  (2798, 1)\n",
      "x_test:  (677, 30)\n",
      "y_test (677, 1)\n"
     ]
    }
   ],
   "source": [
    "x_train, y_train = create_dataset(train_data, time_step)\n",
    "x_test, y_test = create_dataset(test_data, time_step)\n",
    "\n",
    "x_train =x_train.reshape(x_train.shape[0],x_train.shape[1])\n",
    "x_test = x_test.reshape(x_test.shape[0],x_test.shape[1])\n",
    "y_train = y_train.reshape(y_train.shape[0],1)\n",
    "y_test = y_test.reshape(y_test.shape[0],1)\n",
    "\n",
    "print(\"x_train: \", x_train.shape)\n",
    "print(\"y_train: \", y_train.shape)\n",
    "print(\"x_test: \", x_test.shape)\n",
    "print(\"y_test\", y_test.shape)"
   ]
  },
  {
   "cell_type": "markdown",
   "id": "0ada9459",
   "metadata": {
    "id": "0ada9459"
   },
   "source": [
    "### Building model"
   ]
  },
  {
   "cell_type": "markdown",
   "id": "9acd3f83",
   "metadata": {
    "id": "9acd3f83"
   },
   "source": [
    "Using best hyperparameters after tuning to retrain model"
   ]
  },
  {
   "cell_type": "code",
   "execution_count": 13,
   "id": "c16ec720",
   "metadata": {
    "colab": {
     "base_uri": "https://localhost:8080/",
     "height": 80
    },
    "executionInfo": {
     "elapsed": 421,
     "status": "ok",
     "timestamp": 1747646753889,
     "user": {
      "displayName": "Huyền Nguyễn",
      "userId": "09553267781969793717"
     },
     "user_tz": -420
    },
    "id": "c16ec720",
    "outputId": "b8956039-ee8d-4659-d927-d70db7545cfa"
   },
   "outputs": [
    {
     "data": {
      "text/html": [
       "<style>#sk-container-id-1 {color: black;}#sk-container-id-1 pre{padding: 0;}#sk-container-id-1 div.sk-toggleable {background-color: white;}#sk-container-id-1 label.sk-toggleable__label {cursor: pointer;display: block;width: 100%;margin-bottom: 0;padding: 0.3em;box-sizing: border-box;text-align: center;}#sk-container-id-1 label.sk-toggleable__label-arrow:before {content: \"▸\";float: left;margin-right: 0.25em;color: #696969;}#sk-container-id-1 label.sk-toggleable__label-arrow:hover:before {color: black;}#sk-container-id-1 div.sk-estimator:hover label.sk-toggleable__label-arrow:before {color: black;}#sk-container-id-1 div.sk-toggleable__content {max-height: 0;max-width: 0;overflow: hidden;text-align: left;background-color: #f0f8ff;}#sk-container-id-1 div.sk-toggleable__content pre {margin: 0.2em;color: black;border-radius: 0.25em;background-color: #f0f8ff;}#sk-container-id-1 input.sk-toggleable__control:checked~div.sk-toggleable__content {max-height: 200px;max-width: 100%;overflow: auto;}#sk-container-id-1 input.sk-toggleable__control:checked~label.sk-toggleable__label-arrow:before {content: \"▾\";}#sk-container-id-1 div.sk-estimator input.sk-toggleable__control:checked~label.sk-toggleable__label {background-color: #d4ebff;}#sk-container-id-1 div.sk-label input.sk-toggleable__control:checked~label.sk-toggleable__label {background-color: #d4ebff;}#sk-container-id-1 input.sk-hidden--visually {border: 0;clip: rect(1px 1px 1px 1px);clip: rect(1px, 1px, 1px, 1px);height: 1px;margin: -1px;overflow: hidden;padding: 0;position: absolute;width: 1px;}#sk-container-id-1 div.sk-estimator {font-family: monospace;background-color: #f0f8ff;border: 1px dotted black;border-radius: 0.25em;box-sizing: border-box;margin-bottom: 0.5em;}#sk-container-id-1 div.sk-estimator:hover {background-color: #d4ebff;}#sk-container-id-1 div.sk-parallel-item::after {content: \"\";width: 100%;border-bottom: 1px solid gray;flex-grow: 1;}#sk-container-id-1 div.sk-label:hover label.sk-toggleable__label {background-color: #d4ebff;}#sk-container-id-1 div.sk-serial::before {content: \"\";position: absolute;border-left: 1px solid gray;box-sizing: border-box;top: 0;bottom: 0;left: 50%;z-index: 0;}#sk-container-id-1 div.sk-serial {display: flex;flex-direction: column;align-items: center;background-color: white;padding-right: 0.2em;padding-left: 0.2em;position: relative;}#sk-container-id-1 div.sk-item {position: relative;z-index: 1;}#sk-container-id-1 div.sk-parallel {display: flex;align-items: stretch;justify-content: center;background-color: white;position: relative;}#sk-container-id-1 div.sk-item::before, #sk-container-id-1 div.sk-parallel-item::before {content: \"\";position: absolute;border-left: 1px solid gray;box-sizing: border-box;top: 0;bottom: 0;left: 50%;z-index: -1;}#sk-container-id-1 div.sk-parallel-item {display: flex;flex-direction: column;z-index: 1;position: relative;background-color: white;}#sk-container-id-1 div.sk-parallel-item:first-child::after {align-self: flex-end;width: 50%;}#sk-container-id-1 div.sk-parallel-item:last-child::after {align-self: flex-start;width: 50%;}#sk-container-id-1 div.sk-parallel-item:only-child::after {width: 0;}#sk-container-id-1 div.sk-dashed-wrapped {border: 1px dashed gray;margin: 0 0.4em 0.5em 0.4em;box-sizing: border-box;padding-bottom: 0.4em;background-color: white;}#sk-container-id-1 div.sk-label label {font-family: monospace;font-weight: bold;display: inline-block;line-height: 1.2em;}#sk-container-id-1 div.sk-label-container {text-align: center;}#sk-container-id-1 div.sk-container {/* jupyter's `normalize.less` sets `[hidden] { display: none; }` but bootstrap.min.css set `[hidden] { display: none !important; }` so we also need the `!important` here to be able to override the default hidden behavior on the sphinx rendered scikit-learn.org. See: https://github.com/scikit-learn/scikit-learn/issues/21755 */display: inline-block !important;position: relative;}#sk-container-id-1 div.sk-text-repr-fallback {display: none;}</style><div id=\"sk-container-id-1\" class=\"sk-top-container\"><div class=\"sk-text-repr-fallback\"><pre>SVR(C=1, gamma=0.01, kernel=&#x27;linear&#x27;)</pre><b>In a Jupyter environment, please rerun this cell to show the HTML representation or trust the notebook. <br />On GitHub, the HTML representation is unable to render, please try loading this page with nbviewer.org.</b></div><div class=\"sk-container\" hidden><div class=\"sk-item\"><div class=\"sk-estimator sk-toggleable\"><input class=\"sk-toggleable__control sk-hidden--visually\" id=\"sk-estimator-id-1\" type=\"checkbox\" checked><label for=\"sk-estimator-id-1\" class=\"sk-toggleable__label sk-toggleable__label-arrow\">SVR</label><div class=\"sk-toggleable__content\"><pre>SVR(C=1, gamma=0.01, kernel=&#x27;linear&#x27;)</pre></div></div></div></div></div>"
      ],
      "text/plain": [
       "SVR(C=1, gamma=0.01, kernel='linear')"
      ]
     },
     "execution_count": 13,
     "metadata": {},
     "output_type": "execute_result"
    }
   ],
   "source": [
    "# Create and train the SVR model\n",
    "svr_model = SVR(C = 1, kernel = 'linear', gamma = 0.01)\n",
    "svr_model.fit(x_train, y_train)"
   ]
  },
  {
   "cell_type": "code",
   "execution_count": 14,
   "id": "ca00f6f5",
   "metadata": {
    "executionInfo": {
     "elapsed": 30,
     "status": "ok",
     "timestamp": 1747646756454,
     "user": {
      "displayName": "Huyền Nguyễn",
      "userId": "09553267781969793717"
     },
     "user_tz": -420
    },
    "id": "ca00f6f5"
   },
   "outputs": [],
   "source": [
    "predictions = svr_model.predict(x_test)\n",
    "predictions = predictions.reshape(-1,1)\n",
    "\n",
    "predictions_train = svr_model.predict(x_train)\n",
    "predictions_train = predictions_train.reshape(-1,1)"
   ]
  },
  {
   "cell_type": "code",
   "execution_count": 15,
   "id": "675f26cb",
   "metadata": {
    "executionInfo": {
     "elapsed": 12,
     "status": "ok",
     "timestamp": 1747646758436,
     "user": {
      "displayName": "Huyền Nguyễn",
      "userId": "09553267781969793717"
     },
     "user_tz": -420
    },
    "id": "675f26cb"
   },
   "outputs": [],
   "source": [
    "predictions = scaler.inverse_transform(predictions)\n",
    "predictions_train = scaler.inverse_transform(predictions_train)\n",
    "y_test = scaler.inverse_transform(y_test)\n",
    "y_train = scaler.inverse_transform(y_train)"
   ]
  },
  {
   "cell_type": "code",
   "execution_count": 16,
   "id": "8edcd5b9",
   "metadata": {
    "executionInfo": {
     "elapsed": 8,
     "status": "ok",
     "timestamp": 1747646760225,
     "user": {
      "displayName": "Huyền Nguyễn",
      "userId": "09553267781969793717"
     },
     "user_tz": -420
    },
    "id": "8edcd5b9"
   },
   "outputs": [],
   "source": [
    "column_names_pred = ['Close_predict']\n",
    "df_predictions = pd.DataFrame(predictions, columns=column_names_pred)\n",
    "\n",
    "column_names_test = ['Close_test']\n",
    "df_test = pd.DataFrame(y_test, columns=column_names_test)\n",
    "\n",
    "concatenated = np.concatenate([df_predictions, df_test], axis=1)\n",
    "column_names_concat = ['Close_predict', 'Close_test']\n",
    "df_concatenated = pd.DataFrame(concatenated, columns = column_names_concat)"
   ]
  },
  {
   "cell_type": "code",
   "execution_count": 17,
   "id": "2d96a559",
   "metadata": {
    "colab": {
     "base_uri": "https://localhost:8080/",
     "height": 469
    },
    "executionInfo": {
     "elapsed": 304,
     "status": "ok",
     "timestamp": 1747646763221,
     "user": {
      "displayName": "Huyền Nguyễn",
      "userId": "09553267781969793717"
     },
     "user_tz": -420
    },
    "id": "2d96a559",
    "outputId": "1dd2b32c-4d09-4626-a275-cebd9a8deebd",
    "scrolled": false
   },
   "outputs": [
    {
     "data": {
      "image/png": "[encoded data removed]",
      "text/plain": [
       "<Figure size 1600x600 with 1 Axes>"
      ]
     },
     "metadata": {},
     "output_type": "display_data"
    }
   ],
   "source": [
    "plt.figure(figsize=(16,6))\n",
    "plt.title('Close Price History')\n",
    "plt.plot(df_predictions['Close_predict'], color='red', label='Predicted Close Price')\n",
    "plt.plot(df_test['Close_test'], color='blue', label='Actual Close Price')\n",
    "plt.xlabel('Date', fontsize=18)\n",
    "plt.ylabel('Close Price USD ($)', fontsize=18)\n",
    "plt.show()"
   ]
  },
  {
   "cell_type": "markdown",
   "id": "28013729",
   "metadata": {
    "id": "28013729"
   },
   "source": [
    "### Evaluate model"
   ]
  },
  {
   "cell_type": "code",
   "execution_count": 18,
   "id": "14f1f355",
   "metadata": {
    "executionInfo": {
     "elapsed": 9,
     "status": "ok",
     "timestamp": 1747646766704,
     "user": {
      "displayName": "Huyền Nguyễn",
      "userId": "09553267781969793717"
     },
     "user_tz": -420
    },
    "id": "14f1f355"
   },
   "outputs": [],
   "source": [
    "predictions = scaler.fit_transform(predictions)\n",
    "predictions_train = scaler.fit_transform(predictions_train)\n",
    "y_test = scaler.fit_transform(y_test)\n",
    "y_train = scaler.fit_transform(y_train)"
   ]
  },
  {
   "cell_type": "code",
   "execution_count": 19,
   "id": "d3487951",
   "metadata": {
    "colab": {
     "base_uri": "https://localhost:8080/"
    },
    "executionInfo": {
     "elapsed": 8,
     "status": "ok",
     "timestamp": 1747646768770,
     "user": {
      "displayName": "Huyền Nguyễn",
      "userId": "09553267781969793717"
     },
     "user_tz": -420
    },
    "id": "d3487951",
    "outputId": "a1eb5eae-3e58-43db-f60c-888b2b42123a",
    "scrolled": true
   },
   "outputs": [
    {
     "name": "stdout",
     "output_type": "stream",
     "text": [
      "Train Mean Absolute Error: 0.04295331145755697\n",
      "Train Mean Squared Error: 0.005226366198273459\n",
      "Train R-squared: 0.9947736338017266\n"
     ]
    }
   ],
   "source": [
    "mae_train = mean_absolute_error(y_train, predictions_train)\n",
    "rmse_train = mean_squared_error(y_train, predictions_train)\n",
    "r2_train = r2_score(y_train, predictions_train)\n",
    "\n",
    "print(\"Train Mean Absolute Error:\", mae_train)\n",
    "print(\"Train Mean Squared Error:\", rmse_train)\n",
    "print(\"Train R-squared:\", r2_train)"
   ]
  },
  {
   "cell_type": "code",
   "execution_count": 20,
   "id": "6ca6a52c",
   "metadata": {
    "colab": {
     "base_uri": "https://localhost:8080/"
    },
    "executionInfo": {
     "elapsed": 12,
     "status": "ok",
     "timestamp": 1747646771141,
     "user": {
      "displayName": "Huyền Nguyễn",
      "userId": "09553267781969793717"
     },
     "user_tz": -420
    },
    "id": "6ca6a52c",
    "outputId": "e693954b-946d-4c4b-981c-19141f4823ff",
    "scrolled": true
   },
   "outputs": [
    {
     "name": "stdout",
     "output_type": "stream",
     "text": [
      "Test Mean Absolute Error: 0.02404236385124905\n",
      "Test Mean Squared Error: 0.0032370327134391627\n",
      "Test R-squared: 0.9967629672865609\n"
     ]
    }
   ],
   "source": [
    "mae_test = mean_absolute_error(y_test, predictions)\n",
    "rmse_test = mean_squared_error(y_test, predictions)\n",
    "r2_test = r2_score(y_test, predictions)\n",
    "\n",
    "print(\"Test Mean Absolute Error:\", mae_test)\n",
    "print(\"Test Mean Squared Error:\", rmse_test)\n",
    "print(\"Test R-squared:\", r2_test)"
   ]
  },
  {
   "cell_type": "markdown",
   "id": "fb078682",
   "metadata": {
    "id": "fb078682"
   },
   "source": [
    "## 3. [Predictions](#4-bullet)"
   ]
  },
  {
   "cell_type": "code",
   "execution_count": 21,
   "id": "b22adefd",
   "metadata": {
    "executionInfo": {
     "elapsed": 4,
     "status": "ok",
     "timestamp": 1747646773452,
     "user": {
      "displayName": "Huyền Nguyễn",
      "userId": "09553267781969793717"
     },
     "user_tz": -420
    },
    "id": "b22adefd"
   },
   "outputs": [],
   "source": [
    "predictions = scaler.inverse_transform(predictions)\n",
    "predictions_train = scaler.inverse_transform(predictions_train)\n",
    "y_test = scaler.inverse_transform(y_test)\n",
    "y_train = scaler.inverse_transform(y_train)"
   ]
  },
  {
   "cell_type": "code",
   "execution_count": 22,
   "id": "fa5bccef",
   "metadata": {
    "colab": {
     "base_uri": "https://localhost:8080/"
    },
    "executionInfo": {
     "elapsed": 43,
     "status": "ok",
     "timestamp": 1747646780988,
     "user": {
      "displayName": "Huyền Nguyễn",
      "userId": "09553267781969793717"
     },
     "user_tz": -420
    },
    "id": "fa5bccef",
    "outputId": "d7c5b96c-2a9d-41e8-eb53-b5c853498342"
   },
   "outputs": [
    {
     "name": "stdout",
     "output_type": "stream",
     "text": [
      "Predicted prices for the next days:\n",
      "Day 1: [[1753.12246194]]\n",
      "Day 2: [[1744.68564476]]\n",
      "Day 3: [[1741.62804691]]\n",
      "Day 4: [[1651.99009878]]\n",
      "Day 5: [[1639.12765807]]\n",
      "Day 6: [[1644.63230397]]\n",
      "Day 7: [[1643.04882074]]\n",
      "Day 8: [[1732.9187667]]\n",
      "Day 9: [[1749.1636595]]\n",
      "Day 10: [[1741.02642446]]\n",
      "Day 11: [[1744.38183025]]\n",
      "Day 12: [[1733.98547397]]\n",
      "Day 13: [[1841.17778046]]\n",
      "Day 14: [[1858.58612531]]\n",
      "Day 15: [[1847.65194022]]\n",
      "Day 16: [[1850.81166553]]\n",
      "Day 17: [[1843.19546461]]\n",
      "Day 18: [[1742.38302617]]\n",
      "Day 19: [[1742.04519092]]\n",
      "Day 20: [[1743.19022293]]\n",
      "Day 21: [[1757.79809361]]\n",
      "Day 22: [[1734.0809611]]\n",
      "Day 23: [[1739.9437208]]\n",
      "Day 24: [[1745.54261211]]\n",
      "Day 25: [[1738.96589346]]\n",
      "Day 26: [[1720.93003314]]\n",
      "Day 27: [[1750.37214064]]\n",
      "Day 28: [[1749.69670048]]\n",
      "Day 29: [[1758.45936817]]\n",
      "Day 30: [[1742.82163725]]\n",
      "Day 31: [[1733.96117805]]\n",
      "Day 32: [[1750.09205252]]\n",
      "Day 33: [[1744.28105857]]\n",
      "Day 34: [[1735.16809483]]\n",
      "Day 35: [[1758.8139354]]\n",
      "Day 36: [[1655.08625896]]\n",
      "Day 37: [[1729.65456645]]\n",
      "Day 38: [[1657.28496375]]\n",
      "Day 39: [[1648.35900412]]\n",
      "Day 40: [[1654.89381367]]\n",
      "Day 41: [[1638.8262724]]\n",
      "Day 42: [[1657.46385197]]\n",
      "Day 43: [[1550.242445]]\n",
      "Day 44: [[1550.23381208]]\n",
      "Day 45: [[1642.66328114]]\n",
      "Day 46: [[1656.14420846]]\n",
      "Day 47: [[1562.72096381]]\n",
      "Day 48: [[1457.30325228]]\n",
      "Day 49: [[1457.16108571]]\n",
      "Day 50: [[1464.7245809]]\n",
      "Day 51: [[1453.5553276]]\n",
      "Day 52: [[1454.90808684]]\n",
      "Day 53: [[1484.33038001]]\n",
      "Day 54: [[1452.75604761]]\n",
      "Day 55: [[1449.35049255]]\n",
      "Day 56: [[1370.40158651]]\n",
      "Day 57: [[1361.91960995]]\n",
      "Day 58: [[1385.42537362]]\n",
      "Day 59: [[1365.70747807]]\n",
      "Day 60: [[1387.06310777]]\n"
     ]
    }
   ],
   "source": [
    "last_60_days = np.array([y_test[i] for i in range(-1, -61, -1)])\n",
    "next_days = []\n",
    "for i in range(60):\n",
    "    input_data = x_test[i-60].reshape(-1,30)\n",
    "\n",
    "    predicted_price = svr_model.predict(input_data)\n",
    "    next_days.append(predicted_price)\n",
    "\n",
    "#\n",
    "# pop_price = next_days.pop(0)\n",
    "print(\"Predicted prices for the next days:\")\n",
    "\n",
    "for i, price in enumerate(next_days):\n",
    "    price = scaler.inverse_transform(price.reshape(-1,1))\n",
    "    print(f\"Day {i+1}: {price}\")\n",
    "\n",
    "next_days = scaler.inverse_transform(np.array(next_days).reshape(-1,1))"
   ]
  },
  {
   "cell_type": "code",
   "execution_count": 23,
   "id": "65ed7bab",
   "metadata": {
    "colab": {
     "base_uri": "https://localhost:8080/",
     "height": 469
    },
    "executionInfo": {
     "elapsed": 422,
     "status": "ok",
     "timestamp": 1747646788219,
     "user": {
      "displayName": "Huyền Nguyễn",
      "userId": "09553267781969793717"
     },
     "user_tz": -420
    },
    "id": "65ed7bab",
    "outputId": "3e778c14-f791-4d29-ae9f-5868a13fc3fa",
    "scrolled": true
   },
   "outputs": [
    {
     "data": {
      "image/png": "[encoded data removed]",
      "text/plain": [
       "<Figure size 1600x600 with 1 Axes>"
      ]
     },
     "metadata": {},
     "output_type": "display_data"
    }
   ],
   "source": [
    "plt.figure(figsize=(16, 6))\n",
    "plt.title('Close Price History')\n",
    "plt.plot(y_test[:], color='red', label='Actual Close Price')\n",
    "plt.plot(range(len(y_test)-60, len(y_test)), next_days, color='blue', label='Predicted Close Price in next days')\n",
    "plt.xlabel('Date', fontsize=18)\n",
    "plt.ylabel('Close Price USD ($)', fontsize=18)\n",
    "plt.legend()\n",
    "plt.show()"
   ]
  }
 ],
 "metadata": {
  "colab": {
   "provenance": []
  },
  "kernelspec": {
   "display_name": "Python 3",
   "language": "python",
   "name": "python3"
  },
  "language_info": {
   "codemirror_mode": {
    "name": "ipython",
    "version": 3
   },
   "file_extension": ".py",
   "mimetype": "text/x-python",
   "name": "python",
   "nbconvert_exporter": "python",
   "pygments_lexer": "ipython3",
   "version": "3.11.5"
  }
 },
 "nbformat": 4,
 "nbformat_minor": 5
}
