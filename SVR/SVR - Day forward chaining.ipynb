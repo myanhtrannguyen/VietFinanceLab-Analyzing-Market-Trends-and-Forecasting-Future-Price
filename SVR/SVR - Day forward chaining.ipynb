{
 "cells": [
  {
   "cell_type": "markdown",
   "id": "52c5ca0e",
   "metadata": {
    "id": "52c5ca0e"
   },
   "source": [
    "**Outline:**\n",
    "\n",
    "1. [Libraries and settings](#1-bullet)\n",
    "2. [Nested CV](#2-bullet)"
   ]
  },
  {
   "cell_type": "markdown",
   "id": "bee10d05",
   "metadata": {
    "id": "bee10d05"
   },
   "source": [
    "## 1. [Libraries and settings](#1-bullet)"
   ]
  },
  {
   "cell_type": "code",
   "execution_count": 1,
   "id": "b7c4508a",
   "metadata": {
    "id": "b7c4508a"
   },
   "outputs": [],
   "source": [
    "import pandas as pd\n",
    "import numpy as np\n",
    "import matplotlib.pyplot as plt\n",
    "\n",
    "from sklearn.svm import SVR\n",
    "from sklearn.metrics import mean_squared_error, r2_score \n",
    "from sklearn.preprocessing import MinMaxScaler, StandardScaler\n",
    "\n",
    "import seaborn as sns\n",
    "sns.set_style('whitegrid')\n",
    "plt.style.use(\"fivethirtyeight\")\n",
    "\n",
    "import warnings\n",
    "warnings.filterwarnings(\"ignore\")"
   ]
  },
  {
   "cell_type": "code",
   "execution_count": null,
   "id": "a67d62c9",
   "metadata": {},
   "outputs": [],
   "source": [
    "df = pd.read_csv('LCS DATASET PATH', sep='\\t', index_col=0)"
   ]
  },
  {
   "cell_type": "code",
   "execution_count": 3,
   "id": "e9ca302a",
   "metadata": {},
   "outputs": [
    {
     "data": {
      "text/html": [
       "<div>\n",
       "<style scoped>\n",
       "    .dataframe tbody tr th:only-of-type {\n",
       "        vertical-align: middle;\n",
       "    }\n",
       "\n",
       "    .dataframe tbody tr th {\n",
       "        vertical-align: top;\n",
       "    }\n",
       "\n",
       "    .dataframe thead th {\n",
       "        text-align: right;\n",
       "    }\n",
       "</style>\n",
       "<table border=\"1\" class=\"dataframe\">\n",
       "  <thead>\n",
       "    <tr style=\"text-align: right;\">\n",
       "      <th></th>\n",
       "      <th>Open</th>\n",
       "      <th>High</th>\n",
       "      <th>Low</th>\n",
       "      <th>Close</th>\n",
       "      <th>Volume</th>\n",
       "      <th>TradingDate</th>\n",
       "      <th>Code</th>\n",
       "    </tr>\n",
       "  </thead>\n",
       "  <tbody>\n",
       "    <tr>\n",
       "      <th>0</th>\n",
       "      <td>16200.0</td>\n",
       "      <td>19800.0</td>\n",
       "      <td>15750.0</td>\n",
       "      <td>19350.0</td>\n",
       "      <td>278800</td>\n",
       "      <td>2010-07-06</td>\n",
       "      <td>LCS</td>\n",
       "    </tr>\n",
       "    <tr>\n",
       "      <th>1</th>\n",
       "      <td>19400.0</td>\n",
       "      <td>19400.0</td>\n",
       "      <td>19400.0</td>\n",
       "      <td>19400.0</td>\n",
       "      <td>30700</td>\n",
       "      <td>2010-07-07</td>\n",
       "      <td>LCS</td>\n",
       "    </tr>\n",
       "    <tr>\n",
       "      <th>2</th>\n",
       "      <td>20750.0</td>\n",
       "      <td>20750.0</td>\n",
       "      <td>18450.0</td>\n",
       "      <td>18900.0</td>\n",
       "      <td>192800</td>\n",
       "      <td>2010-07-08</td>\n",
       "      <td>LCS</td>\n",
       "    </tr>\n",
       "    <tr>\n",
       "      <th>3</th>\n",
       "      <td>18900.0</td>\n",
       "      <td>18900.0</td>\n",
       "      <td>18900.0</td>\n",
       "      <td>18900.0</td>\n",
       "      <td>1000</td>\n",
       "      <td>2010-07-09</td>\n",
       "      <td>LCS</td>\n",
       "    </tr>\n",
       "    <tr>\n",
       "      <th>4</th>\n",
       "      <td>17600.0</td>\n",
       "      <td>18900.0</td>\n",
       "      <td>17600.0</td>\n",
       "      <td>18230.0</td>\n",
       "      <td>133500</td>\n",
       "      <td>2010-07-12</td>\n",
       "      <td>LCS</td>\n",
       "    </tr>\n",
       "  </tbody>\n",
       "</table>\n",
       "</div>"
      ],
      "text/plain": [
       "      Open     High      Low    Close  Volume TradingDate Code\n",
       "0  16200.0  19800.0  15750.0  19350.0  278800  2010-07-06  LCS\n",
       "1  19400.0  19400.0  19400.0  19400.0   30700  2010-07-07  LCS\n",
       "2  20750.0  20750.0  18450.0  18900.0  192800  2010-07-08  LCS\n",
       "3  18900.0  18900.0  18900.0  18900.0    1000  2010-07-09  LCS\n",
       "4  17600.0  18900.0  17600.0  18230.0  133500  2010-07-12  LCS"
      ]
     },
     "execution_count": 3,
     "metadata": {},
     "output_type": "execute_result"
    }
   ],
   "source": [
    "df.head()"
   ]
  },
  {
   "cell_type": "code",
   "execution_count": 4,
   "id": "1033eb9a",
   "metadata": {},
   "outputs": [],
   "source": [
    "df['TradingDate'] = pd.to_datetime(df['TradingDate'], format='%Y-%m-%d')"
   ]
  },
  {
   "cell_type": "code",
   "execution_count": 5,
   "id": "2c64a2ad",
   "metadata": {},
   "outputs": [],
   "source": [
    "df = df.dropna()"
   ]
  },
  {
   "cell_type": "code",
   "execution_count": 6,
   "id": "f41a3de6",
   "metadata": {},
   "outputs": [],
   "source": [
    "# Create a new dataframe\n",
    "data = df.filter(['Close'])\n",
    "# Convert the dataframe to a numpy array\n",
    "dataset = data.values"
   ]
  },
  {
   "cell_type": "code",
   "execution_count": 7,
   "id": "785d51ec",
   "metadata": {},
   "outputs": [],
   "source": [
    "# scaler = MinMaxScaler(feature_range=(0,1))\n",
    "scaler = StandardScaler()\n",
    "scaled_data = scaler.fit_transform(dataset)"
   ]
  },
  {
   "cell_type": "code",
   "execution_count": 8,
   "id": "660ffb91",
   "metadata": {},
   "outputs": [
    {
     "data": {
      "text/plain": [
       "array([[ 4.06607813],\n",
       "       [ 4.07990553],\n",
       "       [ 3.9416315 ],\n",
       "       ...,\n",
       "       [-1.11919787],\n",
       "       [-1.11919787],\n",
       "       [-1.11919787]])"
      ]
     },
     "execution_count": 8,
     "metadata": {},
     "output_type": "execute_result"
    }
   ],
   "source": [
    "scaled_data"
   ]
  },
  {
   "cell_type": "markdown",
   "id": "5274fd94",
   "metadata": {
    "id": "5274fd94"
   },
   "source": [
    "## 2. [Nested CV - Day Forward Chaining](#2-bullet)"
   ]
  },
  {
   "cell_type": "markdown",
   "id": "8f33be6e",
   "metadata": {
    "id": "8f33be6e"
   },
   "source": [
    "We try to use nested CV for time series to try to tune hyperparameters. After getting best hyperparameters, we retrain model and then evaluate"
   ]
  },
  {
   "cell_type": "markdown",
   "id": "74caeb07",
   "metadata": {
    "id": "74caeb07"
   },
   "source": [
    "### Create dataset"
   ]
  },
  {
   "cell_type": "code",
   "execution_count": 9,
   "id": "b841d26f",
   "metadata": {
    "id": "b841d26f"
   },
   "outputs": [],
   "source": [
    "def create_dataset(dataset, time_step=1):\n",
    "    dataX, dataY = [], []\n",
    "    for i in range(len(dataset)-time_step-1):\n",
    "        a = dataset[i:(i+time_step), 0]\n",
    "        dataX.append(a)\n",
    "        dataY.append(dataset[i + time_step, 0])\n",
    "    return np.array(dataX), np.array(dataY)"
   ]
  },
  {
   "cell_type": "code",
   "execution_count": 10,
   "id": "24c1c019",
   "metadata": {
    "id": "24c1c019"
   },
   "outputs": [],
   "source": [
    "time_step = 30\n",
    "x_for_train, y_for_train = create_dataset(scaled_data, time_step)\n",
    "\n",
    "x_for_train = x_for_train.reshape(x_for_train.shape[0],x_for_train.shape[1])\n",
    "y_for_train = y_for_train.reshape(y_for_train.shape[0],1)"
   ]
  },
  {
   "cell_type": "markdown",
   "id": "58655a34",
   "metadata": {
    "id": "58655a34"
   },
   "source": [
    "### Day forward chaining"
   ]
  },
  {
   "cell_type": "code",
   "execution_count": 11,
   "id": "e0597b01",
   "metadata": {
    "id": "e0597b01"
   },
   "outputs": [],
   "source": [
    "def performSVR(X_train, Y_train, X_test, Y_test, parameters):\n",
    "\n",
    "    # Create and train the SVR model\n",
    "    svr_model = SVR(C = parameters['C'], kernel = parameters['kernel'], gamma = parameters['gamma'])\n",
    "    svr_model.fit(X_train, Y_train)\n",
    "\n",
    "    # Make predictions on the test set\n",
    "    Y_pred_train = svr_model.predict(X_train)\n",
    "    Y_pred_test = svr_model.predict(X_test)\n",
    "\n",
    "    # Calculate accuracy\n",
    "    accuracy_train = r2_score(Y_train, Y_pred_train)\n",
    "    accuracy_valid = r2_score(Y_test, Y_pred_test)\n",
    "\n",
    "    mse_train = mean_squared_error(Y_train, Y_pred_train)\n",
    "    mse_valid = mean_squared_error(Y_test, Y_pred_test)\n",
    "\n",
    "    return [accuracy_train, accuracy_valid, mse_train, mse_valid]"
   ]
  },
  {
   "cell_type": "code",
   "execution_count": 12,
   "id": "6e417820",
   "metadata": {
    "id": "6e417820"
   },
   "outputs": [],
   "source": [
    "from sklearn.model_selection import ParameterGrid\n",
    "\n",
    "def performDayForwardChaining(X_train, y_train, number_folds):\n",
    "    # Định nghĩa siêu tham số để tinh chỉnh\n",
    "    param_grid = {\n",
    "        'C': [0.01, 0.1, 1, 100],\n",
    "        'kernel': ['linear', 'rbf', 'sigmoid'],\n",
    "        'gamma' : [0.01, 0.001, 1]\n",
    "    }\n",
    "\n",
    "    # Chuyển đổi siêu tham số thành danh sách các tham số có thể\n",
    "    param_list = list(ParameterGrid(param_grid))\n",
    "\n",
    "    print('Size train set: ', X_train.shape)\n",
    "\n",
    "    # k is the size of each fold. It is computed dividing the number of\n",
    "    # rows in X_train by number_folds. This number is floored and coerced to int\n",
    "    k = int(np.floor(float(X_train.shape[0]) / number_folds))\n",
    "    # print('Size of each fold: ', k)\n",
    "\n",
    "    results_valid = []\n",
    "    results_test = []\n",
    "    # loop from the first 2 folds to the total number of folds\n",
    "    for i in range(3, number_folds + 1):\n",
    "        # print('')\n",
    "\n",
    "        split = float(i-1)/i\n",
    "\n",
    "        # print('Splitting the first ' + str(i) + ' chunks at ' + str(i-1) + '/' + str(i))\n",
    "\n",
    "        X = X_train[:(k*i),:]\n",
    "        y = y_train[:(k*i),:]\n",
    "        # print('Size of train + valid + test: ', X.shape)\n",
    "\n",
    "        index = int(np.floor(X.shape[0] * split))\n",
    "        # print(index)\n",
    "\n",
    "        # folds used to train the model\n",
    "        X_train_validFolds = X[:index,:]\n",
    "        y_train_validFolds = y[:index,:]\n",
    "\n",
    "        index_valid = int((i-2)*index/(i-1))\n",
    "\n",
    "        X_trainFolds = X_train_validFolds[:index_valid,:]\n",
    "        y_trainFolds = y_train_validFolds[:index_valid,:]\n",
    "\n",
    "        X_validFolds = X_train_validFolds[index_valid:,:]\n",
    "        y_validFolds = y_train_validFolds[index_valid:,:]\n",
    "\n",
    "        # fold used to test the model\n",
    "        X_testFolds = X[(index + 1):,:]\n",
    "        y_testFolds = y[(index + 1):,:]\n",
    "\n",
    "        for j,params in enumerate(param_list):\n",
    "            # print(f\"Evaluating parameters {j+1}: {params}\")\n",
    "            accuracies_valid = performSVR(X_trainFolds, y_trainFolds, X_validFolds, y_validFolds, params)\n",
    "\n",
    "            results_valid.append({\n",
    "            'parameters': params,\n",
    "            'accuracy_train': accuracies_valid[0],\n",
    "            'accuracy_valid': accuracies_valid[1],\n",
    "            'mse_train': accuracies_valid[2],\n",
    "            'mse_valid': accuracies_valid[3]\n",
    "            })\n",
    "\n",
    "        # for result in results_valid:\n",
    "        #     print(\"Parameters: \", result['parameters'])\n",
    "        #     print(\"Train Accuracy: \", result['accuracy_train'])\n",
    "        #     print(\"Valid Accuracy: \", result['accuracy_valid'])\n",
    "        #     print(\"Train MSE: \", result['mse_train'])\n",
    "        #     print(\"Valid MSE: \", result['mse_valid'])\n",
    "        #     print(\"------------------------\")\n",
    "\n",
    "        # Sắp xếp danh sách kết quả theo trường 'accuracy_valid' tăng dần\n",
    "        sorted_results_valid = sorted(results_valid, key=lambda x: x['mse_valid'], reverse=False)\n",
    "\n",
    "        # Lấy bộ tham số đầu tiên từ danh sách đã sắp xếp\n",
    "        best_parameters = sorted_results_valid[0]['parameters']\n",
    "        print(best_parameters)\n",
    "\n",
    "        accuracies_test = performSVR(X_train_validFolds, y_train_validFolds, X_testFolds, y_testFolds, best_parameters)\n",
    "\n",
    "        results_test.append({\n",
    "            'parameters': best_parameters,\n",
    "            'accuracy_train': accuracies_test[0],\n",
    "            'accuracy_test': accuracies_test[1],\n",
    "            'mse_train': accuracies_test[2],\n",
    "            'mse_test': accuracies_test[3]\n",
    "            })\n",
    "\n",
    "    acc_train_model = 0\n",
    "    acc_test_model = 0\n",
    "    mse_train_model = 0\n",
    "    mse_test_model = 0\n",
    "    cnt = 0\n",
    "    for result in results_test:\n",
    "        acc_train_model += result['accuracy_train']\n",
    "        acc_test_model += result['accuracy_test']\n",
    "        mse_train_model += result['mse_train']\n",
    "        mse_test_model += result['mse_test']\n",
    "        cnt += 1\n",
    "\n",
    "    acc_train_model = acc_train_model/cnt\n",
    "    acc_test_model = acc_test_model/cnt\n",
    "    mse_train_model = mse_train_model/cnt\n",
    "    mse_test_model = mse_test_model/cnt\n",
    "    # the function returns the mean of the accuracy on the n-1 folds\n",
    "    return acc_train_model, acc_test_model, mse_train_model, mse_test_model"
   ]
  },
  {
   "cell_type": "code",
   "execution_count": 13,
   "id": "4df32637",
   "metadata": {
    "colab": {
     "base_uri": "https://localhost:8080/"
    },
    "executionInfo": {
     "elapsed": 149528,
     "status": "ok",
     "timestamp": 1747640609881,
     "user": {
      "displayName": "Huyền Nguyễn",
      "userId": "09553267781969793717"
     },
     "user_tz": -420
    },
    "id": "4df32637",
    "outputId": "66cc2fb4-1c9e-40a8-f64a-6691dc4b77ab"
   },
   "outputs": [
    {
     "name": "stdout",
     "output_type": "stream",
     "text": [
      "Size train set:  (3506, 30)\n",
      "{'C': 1, 'gamma': 0.01, 'kernel': 'linear'}\n",
      "{'C': 100, 'gamma': 0.01, 'kernel': 'linear'}\n",
      "{'C': 100, 'gamma': 0.01, 'kernel': 'linear'}\n",
      "Train Accuracy Model:  0.9938309544015104\n",
      "Test Accuracy Model:  0.9794110312891425\n",
      "Train MSE Model:  0.006108019585872618\n",
      "Test MSE Model:  0.0011528716917145758\n",
      "------------------------\n"
     ]
    }
   ],
   "source": [
    "accuracy_train_model, accuracy_test_model, mse_train_model, mse_test_model = performDayForwardChaining(x_for_train, y_for_train, number_folds=5)\n",
    "\n",
    "print(\"Train Accuracy Model: \", accuracy_train_model)\n",
    "print(\"Test Accuracy Model: \", accuracy_test_model)\n",
    "print(\"Train MSE Model: \", mse_train_model)\n",
    "print(\"Test MSE Model: \", mse_test_model)\n",
    "print(\"------------------------\")"
   ]
  }
 ],
 "metadata": {
  "colab": {
   "provenance": []
  },
  "kernelspec": {
   "display_name": "Python 3",
   "language": "python",
   "name": "python3"
  },
  "language_info": {
   "codemirror_mode": {
    "name": "ipython",
    "version": 3
   },
   "file_extension": ".py",
   "mimetype": "text/x-python",
   "name": "python",
   "nbconvert_exporter": "python",
   "pygments_lexer": "ipython3",
   "version": "3.11.5"
  }
 },
 "nbformat": 4,
 "nbformat_minor": 5
}
