{
 "cells": [
  {
   "cell_type": "markdown",
   "id": "e8001f46",
   "metadata": {},
   "source": [
    "**Outline:**\n",
    "\n",
    "1. [Libraries and settings](#1-bullet)\n",
    "2. [Nested CV](#2-bullet)\n",
    "3. [Retrain and Evaluate Model](#3-bullet)"
   ]
  },
  {
   "cell_type": "markdown",
   "id": "4e280ca9",
   "metadata": {},
   "source": [
    "## 1. [Libraries and settings](#1-bullet)"
   ]
  },
  {
   "cell_type": "code",
   "execution_count": 1,
   "id": "03fa7ee2",
   "metadata": {
    "execution": {
     "iopub.execute_input": "2023-06-28T15:12:57.924072Z",
     "iopub.status.busy": "2023-06-28T15:12:57.923645Z",
     "iopub.status.idle": "2023-06-28T15:12:57.934545Z",
     "shell.execute_reply": "2023-06-28T15:12:57.933186Z",
     "shell.execute_reply.started": "2023-06-28T15:12:57.924044Z"
    },
    "scrolled": false
   },
   "outputs": [],
   "source": [
    "import os\n",
    "import pandas as pd\n",
    "import numpy as np\n",
    "import matplotlib.pyplot as plt\n",
    "import math\n",
    "import datetime as dt\n",
    "\n",
    "from xgboost import XGBRegressor\n",
    "from sklearn.svm import SVR\n",
    "from sklearn.metrics import mean_squared_error, mean_absolute_error, r2_score \n",
    "from sklearn.metrics import mean_poisson_deviance, mean_gamma_deviance, accuracy_score\n",
    "from sklearn.preprocessing import MinMaxScaler, StandardScaler\n",
    "from sklearn.model_selection import learning_curve, train_test_split\n",
    "\n",
    "from itertools import cycle\n",
    "import plotly.graph_objects as go\n",
    "import plotly.express as px\n",
    "from plotly.subplots import make_subplots\n",
    "from tqdm import tqdm\n",
    "\n",
    "import seaborn as sns\n",
    "sns.set_style('whitegrid')\n",
    "plt.style.use(\"fivethirtyeight\")\n",
    "%matplotlib inline\n",
    "\n",
    "import warnings\n",
    "warnings.filterwarnings(\"ignore\")"
   ]
  },
  {
   "cell_type": "code",
   "execution_count": null,
   "id": "27078522",
   "metadata": {},
   "outputs": [],
   "source": [
    "df = pd.read_csv('LCS DATASET PATH', sep='\\t', index_col=0)"
   ]
  },
  {
   "cell_type": "code",
   "execution_count": 3,
   "id": "3fbf8976",
   "metadata": {},
   "outputs": [
    {
     "data": {
      "text/html": [
       "<div>\n",
       "<style scoped>\n",
       "    .dataframe tbody tr th:only-of-type {\n",
       "        vertical-align: middle;\n",
       "    }\n",
       "\n",
       "    .dataframe tbody tr th {\n",
       "        vertical-align: top;\n",
       "    }\n",
       "\n",
       "    .dataframe thead th {\n",
       "        text-align: right;\n",
       "    }\n",
       "</style>\n",
       "<table border=\"1\" class=\"dataframe\">\n",
       "  <thead>\n",
       "    <tr style=\"text-align: right;\">\n",
       "      <th></th>\n",
       "      <th>Open</th>\n",
       "      <th>High</th>\n",
       "      <th>Low</th>\n",
       "      <th>Close</th>\n",
       "      <th>Volume</th>\n",
       "      <th>TradingDate</th>\n",
       "      <th>Code</th>\n",
       "    </tr>\n",
       "  </thead>\n",
       "  <tbody>\n",
       "    <tr>\n",
       "      <th>0</th>\n",
       "      <td>16200.0</td>\n",
       "      <td>19800.0</td>\n",
       "      <td>15750.0</td>\n",
       "      <td>19350.0</td>\n",
       "      <td>278800</td>\n",
       "      <td>2010-07-06</td>\n",
       "      <td>LCS</td>\n",
       "    </tr>\n",
       "    <tr>\n",
       "      <th>1</th>\n",
       "      <td>19400.0</td>\n",
       "      <td>19400.0</td>\n",
       "      <td>19400.0</td>\n",
       "      <td>19400.0</td>\n",
       "      <td>30700</td>\n",
       "      <td>2010-07-07</td>\n",
       "      <td>LCS</td>\n",
       "    </tr>\n",
       "    <tr>\n",
       "      <th>2</th>\n",
       "      <td>20750.0</td>\n",
       "      <td>20750.0</td>\n",
       "      <td>18450.0</td>\n",
       "      <td>18900.0</td>\n",
       "      <td>192800</td>\n",
       "      <td>2010-07-08</td>\n",
       "      <td>LCS</td>\n",
       "    </tr>\n",
       "    <tr>\n",
       "      <th>3</th>\n",
       "      <td>18900.0</td>\n",
       "      <td>18900.0</td>\n",
       "      <td>18900.0</td>\n",
       "      <td>18900.0</td>\n",
       "      <td>1000</td>\n",
       "      <td>2010-07-09</td>\n",
       "      <td>LCS</td>\n",
       "    </tr>\n",
       "    <tr>\n",
       "      <th>4</th>\n",
       "      <td>17600.0</td>\n",
       "      <td>18900.0</td>\n",
       "      <td>17600.0</td>\n",
       "      <td>18230.0</td>\n",
       "      <td>133500</td>\n",
       "      <td>2010-07-12</td>\n",
       "      <td>LCS</td>\n",
       "    </tr>\n",
       "  </tbody>\n",
       "</table>\n",
       "</div>"
      ],
      "text/plain": [
       "      Open     High      Low    Close  Volume TradingDate Code\n",
       "0  16200.0  19800.0  15750.0  19350.0  278800  2010-07-06  LCS\n",
       "1  19400.0  19400.0  19400.0  19400.0   30700  2010-07-07  LCS\n",
       "2  20750.0  20750.0  18450.0  18900.0  192800  2010-07-08  LCS\n",
       "3  18900.0  18900.0  18900.0  18900.0    1000  2010-07-09  LCS\n",
       "4  17600.0  18900.0  17600.0  18230.0  133500  2010-07-12  LCS"
      ]
     },
     "execution_count": 3,
     "metadata": {},
     "output_type": "execute_result"
    }
   ],
   "source": [
    "df.head()"
   ]
  },
  {
   "cell_type": "code",
   "execution_count": 4,
   "id": "e2147d79",
   "metadata": {},
   "outputs": [],
   "source": [
    "df['TradingDate'] = pd.to_datetime(df['TradingDate'], format='%Y-%m-%d')"
   ]
  },
  {
   "cell_type": "code",
   "execution_count": 5,
   "id": "6f5b8f10",
   "metadata": {},
   "outputs": [],
   "source": [
    "df = df.dropna()"
   ]
  },
  {
   "cell_type": "code",
   "execution_count": 6,
   "id": "5d24366c",
   "metadata": {},
   "outputs": [],
   "source": [
    "# Create a new dataframe\n",
    "data = df.filter(['Close'])\n",
    "# Convert the dataframe to a numpy array\n",
    "dataset = data.values"
   ]
  },
  {
   "cell_type": "code",
   "execution_count": 7,
   "id": "6621ccf2",
   "metadata": {},
   "outputs": [],
   "source": [
    "# scaler = MinMaxScaler(feature_range=(0,1))\n",
    "scaler = StandardScaler()\n",
    "scaled_data = scaler.fit_transform(dataset)"
   ]
  },
  {
   "cell_type": "code",
   "execution_count": 8,
   "id": "13e414ef",
   "metadata": {},
   "outputs": [
    {
     "data": {
      "text/plain": [
       "array([[ 4.06607813],\n",
       "       [ 4.07990553],\n",
       "       [ 3.9416315 ],\n",
       "       ...,\n",
       "       [-1.11919787],\n",
       "       [-1.11919787],\n",
       "       [-1.11919787]])"
      ]
     },
     "execution_count": 8,
     "metadata": {},
     "output_type": "execute_result"
    }
   ],
   "source": [
    "scaled_data"
   ]
  },
  {
   "cell_type": "markdown",
   "id": "2b4cefe5",
   "metadata": {},
   "source": [
    "## 2. [Nested CV - Predict Second Half](#2-bullet)"
   ]
  },
  {
   "cell_type": "markdown",
   "id": "a0975e52",
   "metadata": {},
   "source": [
    "We try to use nested CV for time series to try to tune hyperparameters. After getting best hyperparameters, we retrain model and then evaluate"
   ]
  },
  {
   "cell_type": "markdown",
   "id": "99b3b3ad",
   "metadata": {},
   "source": [
    "### Create dataset"
   ]
  },
  {
   "cell_type": "code",
   "execution_count": 9,
   "id": "63b15be3",
   "metadata": {
    "execution": {
     "iopub.execute_input": "2023-06-28T15:10:02.059396Z",
     "iopub.status.busy": "2023-06-28T15:10:02.058921Z",
     "iopub.status.idle": "2023-06-28T15:10:02.068384Z",
     "shell.execute_reply": "2023-06-28T15:10:02.066372Z",
     "shell.execute_reply.started": "2023-06-28T15:10:02.059364Z"
    }
   },
   "outputs": [],
   "source": [
    "def create_dataset(dataset, time_step=1):\n",
    "    dataX, dataY = [], []\n",
    "    for i in range(len(dataset)-time_step-1):\n",
    "        a = dataset[i:(i+time_step), 0]  \n",
    "        dataX.append(a)\n",
    "        dataY.append(dataset[i + time_step, 0])\n",
    "    return np.array(dataX), np.array(dataY)"
   ]
  },
  {
   "cell_type": "code",
   "execution_count": 10,
   "id": "7b16cf22",
   "metadata": {
    "execution": {
     "iopub.execute_input": "2023-06-28T15:10:02.259895Z",
     "iopub.status.busy": "2023-06-28T15:10:02.259323Z",
     "iopub.status.idle": "2023-06-28T15:10:02.275725Z",
     "shell.execute_reply": "2023-06-28T15:10:02.274212Z",
     "shell.execute_reply.started": "2023-06-28T15:10:02.259854Z"
    }
   },
   "outputs": [],
   "source": [
    "time_step = 30\n",
    "x_for_train, y_for_train = create_dataset(scaled_data, time_step)\n",
    "\n",
    "x_for_train =x_for_train.reshape(x_for_train.shape[0],x_for_train.shape[1])\n",
    "y_for_train = y_for_train.reshape(y_for_train.shape[0],1)"
   ]
  },
  {
   "cell_type": "markdown",
   "id": "29ba2aab",
   "metadata": {},
   "source": [
    "### Predict Second Half"
   ]
  },
  {
   "cell_type": "code",
   "execution_count": 11,
   "id": "c51d50cf",
   "metadata": {
    "execution": {
     "iopub.execute_input": "2023-06-28T15:10:02.597711Z",
     "iopub.status.busy": "2023-06-28T15:10:02.597184Z",
     "iopub.status.idle": "2023-06-28T15:10:02.608467Z",
     "shell.execute_reply": "2023-06-28T15:10:02.606779Z",
     "shell.execute_reply.started": "2023-06-28T15:10:02.597673Z"
    }
   },
   "outputs": [],
   "source": [
    "def performXGBoost(X_train, Y_train, X_test, Y_test, parameters):\n",
    "\n",
    "    XGBoost_model = XGBRegressor(n_estimators = parameters['n_estimators'], max_depth = parameters['max_depth'], learning_rate = parameters['learning_rate'])\n",
    "    XGBoost_model.fit(X_train, Y_train, verbose=False)\n",
    "\n",
    "    # Make predictions on the test set\n",
    "    Y_pred_train = XGBoost_model.predict(X_train)\n",
    "    Y_pred_test = XGBoost_model.predict(X_test)\n",
    "\n",
    "    # Calculate accuracy\n",
    "    accuracy_train = r2_score(Y_train, Y_pred_train)\n",
    "    accuracy_valid = r2_score(Y_test, Y_pred_test)\n",
    "    \n",
    "    mse_train = mean_squared_error(Y_train, Y_pred_train)\n",
    "    mse_valid = mean_squared_error(Y_test, Y_pred_test)\n",
    "    \n",
    "    return [accuracy_train, accuracy_valid, mse_train, mse_valid]"
   ]
  },
  {
   "cell_type": "code",
   "execution_count": 12,
   "id": "59f7b4d9",
   "metadata": {
    "execution": {
     "iopub.execute_input": "2023-06-28T15:15:37.977118Z",
     "iopub.status.busy": "2023-06-28T15:15:37.975704Z",
     "iopub.status.idle": "2023-06-28T15:15:37.985435Z",
     "shell.execute_reply": "2023-06-28T15:15:37.983846Z",
     "shell.execute_reply.started": "2023-06-28T15:15:37.977075Z"
    }
   },
   "outputs": [],
   "source": [
    "def predict_second_half(X, y, params):\n",
    "    train_size = len(X) // 2\n",
    "    X_train, X_test, y_train, y_test = train_test_split(X, y, train_size= 0.5, shuffle=False)\n",
    "    \n",
    "    # Assuming you have a validation set stored in variables called 'val_data' and 'val_target'\n",
    "    # Splitting the training set into training and validation subsets\n",
    "    X_sub_train, x_val, y_sub_train, y_val = train_test_split(X_train, y_train, test_size=0.5, shuffle=False)\n",
    "    \n",
    "    # Training and evaluating the model\n",
    "    accuracy_train, accuracy_valid, mse_train, mse_valid = performXGBoost(X_sub_train, y_sub_train, x_val, y_val, params)\n",
    "    \n",
    "    \n",
    "    return accuracy_train, accuracy_valid, mse_train, mse_valid"
   ]
  },
  {
   "cell_type": "code",
   "execution_count": 13,
   "id": "67892674",
   "metadata": {
    "execution": {
     "iopub.execute_input": "2023-06-28T15:15:39.025467Z",
     "iopub.status.busy": "2023-06-28T15:15:39.024492Z",
     "iopub.status.idle": "2023-06-28T15:15:39.908394Z",
     "shell.execute_reply": "2023-06-28T15:15:39.907219Z",
     "shell.execute_reply.started": "2023-06-28T15:15:39.025413Z"
    }
   },
   "outputs": [
    {
     "name": "stdout",
     "output_type": "stream",
     "text": [
      "Evaluating parameters 1: {'learning_rate': 0.01, 'max_depth': 3, 'n_estimators': 100}\n",
      "Evaluating parameters 2: {'learning_rate': 0.01, 'max_depth': 3, 'n_estimators': 500}\n",
      "Evaluating parameters 3: {'learning_rate': 0.01, 'max_depth': 3, 'n_estimators': 1000}\n",
      "Evaluating parameters 4: {'learning_rate': 0.01, 'max_depth': 6, 'n_estimators': 100}\n",
      "Evaluating parameters 5: {'learning_rate': 0.01, 'max_depth': 6, 'n_estimators': 500}\n",
      "Evaluating parameters 6: {'learning_rate': 0.01, 'max_depth': 6, 'n_estimators': 1000}\n",
      "Evaluating parameters 7: {'learning_rate': 0.01, 'max_depth': 10, 'n_estimators': 100}\n",
      "Evaluating parameters 8: {'learning_rate': 0.01, 'max_depth': 10, 'n_estimators': 500}\n",
      "Evaluating parameters 9: {'learning_rate': 0.01, 'max_depth': 10, 'n_estimators': 1000}\n",
      "Evaluating parameters 10: {'learning_rate': 0.05, 'max_depth': 3, 'n_estimators': 100}\n",
      "Evaluating parameters 11: {'learning_rate': 0.05, 'max_depth': 3, 'n_estimators': 500}\n",
      "Evaluating parameters 12: {'learning_rate': 0.05, 'max_depth': 3, 'n_estimators': 1000}\n",
      "Evaluating parameters 13: {'learning_rate': 0.05, 'max_depth': 6, 'n_estimators': 100}\n",
      "Evaluating parameters 14: {'learning_rate': 0.05, 'max_depth': 6, 'n_estimators': 500}\n",
      "Evaluating parameters 15: {'learning_rate': 0.05, 'max_depth': 6, 'n_estimators': 1000}\n",
      "Evaluating parameters 16: {'learning_rate': 0.05, 'max_depth': 10, 'n_estimators': 100}\n",
      "Evaluating parameters 17: {'learning_rate': 0.05, 'max_depth': 10, 'n_estimators': 500}\n",
      "Evaluating parameters 18: {'learning_rate': 0.05, 'max_depth': 10, 'n_estimators': 1000}\n",
      "Evaluating parameters 19: {'learning_rate': 0.1, 'max_depth': 3, 'n_estimators': 100}\n",
      "Evaluating parameters 20: {'learning_rate': 0.1, 'max_depth': 3, 'n_estimators': 500}\n",
      "Evaluating parameters 21: {'learning_rate': 0.1, 'max_depth': 3, 'n_estimators': 1000}\n",
      "Evaluating parameters 22: {'learning_rate': 0.1, 'max_depth': 6, 'n_estimators': 100}\n",
      "Evaluating parameters 23: {'learning_rate': 0.1, 'max_depth': 6, 'n_estimators': 500}\n",
      "Evaluating parameters 24: {'learning_rate': 0.1, 'max_depth': 6, 'n_estimators': 1000}\n",
      "Evaluating parameters 25: {'learning_rate': 0.1, 'max_depth': 10, 'n_estimators': 100}\n",
      "Evaluating parameters 26: {'learning_rate': 0.1, 'max_depth': 10, 'n_estimators': 500}\n",
      "Evaluating parameters 27: {'learning_rate': 0.1, 'max_depth': 10, 'n_estimators': 1000}\n",
      "Parameters:  {'learning_rate': 0.01, 'max_depth': 3, 'n_estimators': 100}\n",
      "Train Accuracy:  0.8376223220503853\n",
      "Valid Accuracy:  -3.7341634550829195\n",
      "Train MSE:  0.20758443549313763\n",
      "Valid MSE:  0.4476531827231442\n",
      "------------------------\n",
      "Parameters:  {'learning_rate': 0.01, 'max_depth': 3, 'n_estimators': 500}\n",
      "Train Accuracy:  0.995069036173435\n",
      "Valid Accuracy:  0.16263593743480353\n",
      "Train MSE:  0.006303768814160476\n",
      "Valid MSE:  0.07917949839751082\n",
      "------------------------\n",
      "Parameters:  {'learning_rate': 0.01, 'max_depth': 3, 'n_estimators': 1000}\n",
      "Train Accuracy:  0.9966951109907201\n",
      "Valid Accuracy:  0.22764867449680493\n",
      "Train MSE:  0.004224986636227982\n",
      "Valid MSE:  0.07303202188144318\n",
      "------------------------\n",
      "Parameters:  {'learning_rate': 0.01, 'max_depth': 6, 'n_estimators': 100}\n",
      "Train Accuracy:  0.844928674396408\n",
      "Valid Accuracy:  -2.910629402100219\n",
      "Train MSE:  0.19824395811709272\n",
      "Valid MSE:  0.3697814228237727\n",
      "------------------------\n",
      "Parameters:  {'learning_rate': 0.01, 'max_depth': 6, 'n_estimators': 500}\n",
      "Train Accuracy:  0.9985997737407252\n",
      "Valid Accuracy:  0.18860295516955072\n",
      "Train MSE:  0.001790056251970917\n",
      "Valid MSE:  0.07672410828580958\n",
      "------------------------\n",
      "Parameters:  {'learning_rate': 0.01, 'max_depth': 6, 'n_estimators': 1000}\n",
      "Train Accuracy:  0.9995220654380842\n",
      "Valid Accuracy:  0.24776859480222047\n",
      "Train MSE:  0.0006109939339613383\n",
      "Valid MSE:  0.07112952179957865\n",
      "------------------------\n",
      "Parameters:  {'learning_rate': 0.01, 'max_depth': 10, 'n_estimators': 100}\n",
      "Train Accuracy:  0.8458095684107929\n",
      "Valid Accuracy:  -2.9148723365567464\n",
      "Train MSE:  0.19711781880401474\n",
      "Valid MSE:  0.37018262635879445\n",
      "------------------------\n",
      "Parameters:  {'learning_rate': 0.01, 'max_depth': 10, 'n_estimators': 500}\n",
      "Train Accuracy:  0.9996837523257479\n",
      "Valid Accuracy:  0.15752848853534474\n",
      "Train MSE:  0.0004042926082241593\n",
      "Valid MSE:  0.0796624487174842\n",
      "------------------------\n",
      "Parameters:  {'learning_rate': 0.01, 'max_depth': 10, 'n_estimators': 1000}\n",
      "Train Accuracy:  0.9999924215691502\n",
      "Valid Accuracy:  0.22397500989654007\n",
      "Train MSE:  9.68830389586388e-06\n",
      "Valid MSE:  0.07337939637878975\n",
      "------------------------\n",
      "Parameters:  {'learning_rate': 0.05, 'max_depth': 3, 'n_estimators': 100}\n",
      "Train Accuracy:  0.9951219013832989\n",
      "Valid Accuracy:  0.1630891336766641\n",
      "Train MSE:  0.006236185665507361\n",
      "Valid MSE:  0.07913664505246011\n",
      "------------------------\n",
      "Parameters:  {'learning_rate': 0.05, 'max_depth': 3, 'n_estimators': 500}\n",
      "Train Accuracy:  0.9985661299941638\n",
      "Valid Accuracy:  0.24867771593205923\n",
      "Train MSE:  0.0018330665858172497\n",
      "Valid MSE:  0.0710435570940685\n",
      "------------------------\n",
      "Parameters:  {'learning_rate': 0.05, 'max_depth': 3, 'n_estimators': 1000}\n",
      "Train Accuracy:  0.9995306135191592\n",
      "Valid Accuracy:  0.2743214730584753\n",
      "Train MSE:  0.0006000660243686887\n",
      "Valid MSE:  0.0686187338695357\n",
      "------------------------\n",
      "Parameters:  {'learning_rate': 0.05, 'max_depth': 6, 'n_estimators': 100}\n",
      "Train Accuracy:  0.9985662197510323\n",
      "Valid Accuracy:  0.19934164985786074\n",
      "Train MSE:  0.0018329518401878004\n",
      "Valid MSE:  0.07570867844247522\n",
      "------------------------\n",
      "Parameters:  {'learning_rate': 0.05, 'max_depth': 6, 'n_estimators': 500}\n",
      "Train Accuracy:  0.9999613089930204\n",
      "Valid Accuracy:  0.26203771183584046\n",
      "Train MSE:  4.946277680487301e-05\n",
      "Valid MSE:  0.06978026216472367\n",
      "------------------------\n",
      "Parameters:  {'learning_rate': 0.05, 'max_depth': 6, 'n_estimators': 1000}\n",
      "Train Accuracy:  0.9999980555024387\n",
      "Valid Accuracy:  0.26412573320566257\n",
      "Train MSE:  2.485855406280486e-06\n",
      "Valid MSE:  0.06958282297178849\n",
      "------------------------\n",
      "Parameters:  {'learning_rate': 0.05, 'max_depth': 10, 'n_estimators': 100}\n",
      "Train Accuracy:  0.9997143621912469\n",
      "Valid Accuracy:  0.16384296332507986\n",
      "Train MSE:  0.0003651608030995579\n",
      "Valid MSE:  0.0790653644039261\n",
      "------------------------\n",
      "Parameters:  {'learning_rate': 0.05, 'max_depth': 10, 'n_estimators': 500}\n",
      "Train Accuracy:  0.9999992001020067\n",
      "Valid Accuracy:  0.2297810372777549\n",
      "Train MSE:  1.0225935946122954e-06\n",
      "Valid MSE:  0.07283038985190526\n",
      "------------------------\n",
      "Parameters:  {'learning_rate': 0.05, 'max_depth': 10, 'n_estimators': 1000}\n",
      "Train Accuracy:  0.999999200111502\n",
      "Valid Accuracy:  0.2297864107661215\n",
      "Train MSE:  1.0225814558768753e-06\n",
      "Valid MSE:  0.07282988174541666\n",
      "------------------------\n",
      "Parameters:  {'learning_rate': 0.1, 'max_depth': 3, 'n_estimators': 100}\n",
      "Train Accuracy:  0.9966651352164654\n",
      "Valid Accuracy:  0.2409982128386976\n",
      "Train MSE:  0.004263307815935115\n",
      "Valid MSE:  0.07176971579857722\n",
      "------------------------\n",
      "Parameters:  {'learning_rate': 0.1, 'max_depth': 3, 'n_estimators': 500}\n",
      "Train Accuracy:  0.9995662162828554\n",
      "Valid Accuracy:  0.20837141811534132\n",
      "Train MSE:  0.0005545512732207526\n",
      "Valid MSE:  0.07485484132044395\n",
      "------------------------\n",
      "Parameters:  {'learning_rate': 0.1, 'max_depth': 3, 'n_estimators': 1000}\n",
      "Train Accuracy:  0.9999328311921144\n",
      "Valid Accuracy:  0.17731816376131215\n",
      "Train MSE:  8.586893989210803e-05\n",
      "Valid MSE:  0.07779117596063627\n",
      "------------------------\n",
      "Parameters:  {'learning_rate': 0.1, 'max_depth': 6, 'n_estimators': 100}\n",
      "Train Accuracy:  0.9995413050381425\n",
      "Valid Accuracy:  0.23469696632510073\n",
      "Train MSE:  0.00058639793303534\n",
      "Valid MSE:  0.07236554927236787\n",
      "------------------------\n",
      "Parameters:  {'learning_rate': 0.1, 'max_depth': 6, 'n_estimators': 500}\n",
      "Train Accuracy:  0.9999984279409884\n",
      "Valid Accuracy:  0.2542856472482171\n",
      "Train MSE:  2.0097281018034825e-06\n",
      "Valid MSE:  0.07051328214137849\n",
      "------------------------\n",
      "Parameters:  {'learning_rate': 0.1, 'max_depth': 6, 'n_estimators': 1000}\n",
      "Train Accuracy:  0.9999984279196317\n",
      "Valid Accuracy:  0.2542800057154728\n",
      "Train MSE:  2.0097554043203786e-06\n",
      "Valid MSE:  0.07051381559361612\n",
      "------------------------\n",
      "Parameters:  {'learning_rate': 0.1, 'max_depth': 10, 'n_estimators': 100}\n",
      "Train Accuracy:  0.9999950506733871\n",
      "Valid Accuracy:  0.20244875138381613\n",
      "Train MSE:  6.3272438919545005e-06\n",
      "Valid MSE:  0.07541487703482748\n",
      "------------------------\n",
      "Parameters:  {'learning_rate': 0.1, 'max_depth': 10, 'n_estimators': 500}\n",
      "Train Accuracy:  0.9999992652823216\n",
      "Valid Accuracy:  0.20746294982495073\n",
      "Train MSE:  9.392667541692738e-07\n",
      "Valid MSE:  0.07494074429474024\n",
      "------------------------\n",
      "Parameters:  {'learning_rate': 0.1, 'max_depth': 10, 'n_estimators': 1000}\n",
      "Train Accuracy:  0.9999992652819903\n",
      "Valid Accuracy:  0.20746430391856108\n",
      "Train MSE:  9.392671777105005e-07\n",
      "Valid MSE:  0.07494061625431238\n",
      "------------------------\n",
      "Best Parameters:  {'learning_rate': 0.05, 'max_depth': 3, 'n_estimators': 1000}\n"
     ]
    }
   ],
   "source": [
    "from sklearn.model_selection import ParameterGrid\n",
    "\n",
    "# Định nghĩa siêu tham số để tinh chỉnh\n",
    "param_grid = {\n",
    "    'n_estimators': [100, 500, 1000],\n",
    "    'max_depth': [3,6,10],\n",
    "    'learning_rate' : [0.01, 0.05, 0.1]\n",
    "}\n",
    "\n",
    "# Chuyển đổi siêu tham số thành danh sách các tham số có thể\n",
    "param_list = list(ParameterGrid(param_grid))\n",
    "\n",
    "# Lưu kết quả của các mô hình đã được đánh giá\n",
    "results = []\n",
    "\n",
    "# Lặp qua từng bộ tham số để đánh giá mô hình\n",
    "for i,params in enumerate(param_list):\n",
    "    print(f\"Evaluating parameters {i+1}: {params}\")\n",
    "    \n",
    "    # Thực hiện Cross Validation với mô hình SVR và siêu tham số tương ứng\n",
    "    accuracy_train, accuracy_valid, mse_train, mse_valid = predict_second_half(x_for_train, y_for_train, params=params)\n",
    "    \n",
    "    # Lưu kết quả vào danh sách\n",
    "    results.append({\n",
    "        'parameters': params,\n",
    "        'accuracy_train': accuracy_train,\n",
    "        'accuracy_valid': accuracy_valid,\n",
    "        'mse_train': mse_train,\n",
    "        'mse_valid': mse_valid\n",
    "    })\n",
    "\n",
    "# In kết quả của các mô hình đã đánh giá\n",
    "for result in results:\n",
    "    print(\"Parameters: \", result['parameters'])\n",
    "    print(\"Train Accuracy: \", result['accuracy_train'])\n",
    "    print(\"Valid Accuracy: \", result['accuracy_valid'])\n",
    "    print(\"Train MSE: \", result['mse_train'])\n",
    "    print(\"Valid MSE: \", result['mse_valid'])\n",
    "    print(\"------------------------\")\n",
    "    \n",
    "# Sắp xếp danh sách kết quả theo trường 'accuracy_valid' giảm dần\n",
    "sorted_results = sorted(results, key=lambda x: x['mse_valid'], reverse=False)\n",
    "\n",
    "# Lấy bộ tham số đầu tiên từ danh sách đã sắp xếp\n",
    "best_parameters = sorted_results[0]['parameters']\n",
    "\n",
    "# In ra bộ tham số có accuracy_valid lớn nhất\n",
    "print(\"Best Parameters: \", best_parameters)"
   ]
  },
  {
   "cell_type": "markdown",
   "id": "23d60c01",
   "metadata": {},
   "source": [
    "## 3. [Retrain and Evaluate Model](#3-bullet)"
   ]
  },
  {
   "cell_type": "markdown",
   "id": "c20de1f7",
   "metadata": {},
   "source": [
    "### Create training and testing data"
   ]
  },
  {
   "cell_type": "code",
   "execution_count": 14,
   "id": "0e45c068",
   "metadata": {
    "execution": {
     "iopub.execute_input": "2023-06-28T15:19:22.906088Z",
     "iopub.status.busy": "2023-06-28T15:19:22.905629Z",
     "iopub.status.idle": "2023-06-28T15:19:22.913869Z",
     "shell.execute_reply": "2023-06-28T15:19:22.912637Z",
     "shell.execute_reply.started": "2023-06-28T15:19:22.906056Z"
    }
   },
   "outputs": [
    {
     "name": "stdout",
     "output_type": "stream",
     "text": [
      "train_data:  (1768, 1)\n",
      "test_data:  (1769, 1)\n"
     ]
    }
   ],
   "source": [
    "training_size=int(len(dataset)*0.5)\n",
    "test_size=len(dataset)-training_size\n",
    "train_data,test_data=scaled_data[0:training_size],scaled_data[training_size:len(dataset)]\n",
    "print(\"train_data: \", train_data.shape)\n",
    "print(\"test_data: \", test_data.shape)"
   ]
  },
  {
   "cell_type": "code",
   "execution_count": 15,
   "id": "4f76f321",
   "metadata": {
    "execution": {
     "iopub.execute_input": "2023-06-28T15:19:23.205334Z",
     "iopub.status.busy": "2023-06-28T15:19:23.204902Z",
     "iopub.status.idle": "2023-06-28T15:19:23.221660Z",
     "shell.execute_reply": "2023-06-28T15:19:23.220596Z",
     "shell.execute_reply.started": "2023-06-28T15:19:23.205301Z"
    }
   },
   "outputs": [
    {
     "name": "stdout",
     "output_type": "stream",
     "text": [
      "x_train:  (1737, 30)\n",
      "y_train:  (1737, 1)\n",
      "x_test:  (1738, 30)\n",
      "y_test (1738, 1)\n"
     ]
    }
   ],
   "source": [
    "x_train, y_train = create_dataset(train_data, time_step)\n",
    "x_test, y_test = create_dataset(test_data, time_step)\n",
    "\n",
    "x_train =x_train.reshape(x_train.shape[0],x_train.shape[1])\n",
    "x_test = x_test.reshape(x_test.shape[0],x_test.shape[1])\n",
    "y_train = y_train.reshape(y_train.shape[0],1)\n",
    "y_test = y_test.reshape(y_test.shape[0],1)\n",
    "\n",
    "print(\"x_train: \", x_train.shape)\n",
    "print(\"y_train: \", y_train.shape)\n",
    "print(\"x_test: \", x_test.shape)\n",
    "print(\"y_test\", y_test.shape)"
   ]
  },
  {
   "cell_type": "markdown",
   "id": "efde7cb5",
   "metadata": {},
   "source": [
    "### Building model"
   ]
  },
  {
   "cell_type": "markdown",
   "id": "6d35fef0",
   "metadata": {},
   "source": [
    "Using best hyperparameters after tuning to retrain model"
   ]
  },
  {
   "cell_type": "code",
   "execution_count": 16,
   "id": "49cc5abc",
   "metadata": {
    "execution": {
     "iopub.execute_input": "2023-06-28T15:19:24.541142Z",
     "iopub.status.busy": "2023-06-28T15:19:24.540524Z",
     "iopub.status.idle": "2023-06-28T15:19:24.570239Z",
     "shell.execute_reply": "2023-06-28T15:19:24.569015Z",
     "shell.execute_reply.started": "2023-06-28T15:19:24.541111Z"
    }
   },
   "outputs": [
    {
     "data": {
      "text/html": [
       "<style>#sk-container-id-1 {color: black;}#sk-container-id-1 pre{padding: 0;}#sk-container-id-1 div.sk-toggleable {background-color: white;}#sk-container-id-1 label.sk-toggleable__label {cursor: pointer;display: block;width: 100%;margin-bottom: 0;padding: 0.3em;box-sizing: border-box;text-align: center;}#sk-container-id-1 label.sk-toggleable__label-arrow:before {content: \"▸\";float: left;margin-right: 0.25em;color: #696969;}#sk-container-id-1 label.sk-toggleable__label-arrow:hover:before {color: black;}#sk-container-id-1 div.sk-estimator:hover label.sk-toggleable__label-arrow:before {color: black;}#sk-container-id-1 div.sk-toggleable__content {max-height: 0;max-width: 0;overflow: hidden;text-align: left;background-color: #f0f8ff;}#sk-container-id-1 div.sk-toggleable__content pre {margin: 0.2em;color: black;border-radius: 0.25em;background-color: #f0f8ff;}#sk-container-id-1 input.sk-toggleable__control:checked~div.sk-toggleable__content {max-height: 200px;max-width: 100%;overflow: auto;}#sk-container-id-1 input.sk-toggleable__control:checked~label.sk-toggleable__label-arrow:before {content: \"▾\";}#sk-container-id-1 div.sk-estimator input.sk-toggleable__control:checked~label.sk-toggleable__label {background-color: #d4ebff;}#sk-container-id-1 div.sk-label input.sk-toggleable__control:checked~label.sk-toggleable__label {background-color: #d4ebff;}#sk-container-id-1 input.sk-hidden--visually {border: 0;clip: rect(1px 1px 1px 1px);clip: rect(1px, 1px, 1px, 1px);height: 1px;margin: -1px;overflow: hidden;padding: 0;position: absolute;width: 1px;}#sk-container-id-1 div.sk-estimator {font-family: monospace;background-color: #f0f8ff;border: 1px dotted black;border-radius: 0.25em;box-sizing: border-box;margin-bottom: 0.5em;}#sk-container-id-1 div.sk-estimator:hover {background-color: #d4ebff;}#sk-container-id-1 div.sk-parallel-item::after {content: \"\";width: 100%;border-bottom: 1px solid gray;flex-grow: 1;}#sk-container-id-1 div.sk-label:hover label.sk-toggleable__label {background-color: #d4ebff;}#sk-container-id-1 div.sk-serial::before {content: \"\";position: absolute;border-left: 1px solid gray;box-sizing: border-box;top: 0;bottom: 0;left: 50%;z-index: 0;}#sk-container-id-1 div.sk-serial {display: flex;flex-direction: column;align-items: center;background-color: white;padding-right: 0.2em;padding-left: 0.2em;position: relative;}#sk-container-id-1 div.sk-item {position: relative;z-index: 1;}#sk-container-id-1 div.sk-parallel {display: flex;align-items: stretch;justify-content: center;background-color: white;position: relative;}#sk-container-id-1 div.sk-item::before, #sk-container-id-1 div.sk-parallel-item::before {content: \"\";position: absolute;border-left: 1px solid gray;box-sizing: border-box;top: 0;bottom: 0;left: 50%;z-index: -1;}#sk-container-id-1 div.sk-parallel-item {display: flex;flex-direction: column;z-index: 1;position: relative;background-color: white;}#sk-container-id-1 div.sk-parallel-item:first-child::after {align-self: flex-end;width: 50%;}#sk-container-id-1 div.sk-parallel-item:last-child::after {align-self: flex-start;width: 50%;}#sk-container-id-1 div.sk-parallel-item:only-child::after {width: 0;}#sk-container-id-1 div.sk-dashed-wrapped {border: 1px dashed gray;margin: 0 0.4em 0.5em 0.4em;box-sizing: border-box;padding-bottom: 0.4em;background-color: white;}#sk-container-id-1 div.sk-label label {font-family: monospace;font-weight: bold;display: inline-block;line-height: 1.2em;}#sk-container-id-1 div.sk-label-container {text-align: center;}#sk-container-id-1 div.sk-container {/* jupyter's `normalize.less` sets `[hidden] { display: none; }` but bootstrap.min.css set `[hidden] { display: none !important; }` so we also need the `!important` here to be able to override the default hidden behavior on the sphinx rendered scikit-learn.org. See: https://github.com/scikit-learn/scikit-learn/issues/21755 */display: inline-block !important;position: relative;}#sk-container-id-1 div.sk-text-repr-fallback {display: none;}</style><div id=\"sk-container-id-1\" class=\"sk-top-container\"><div class=\"sk-text-repr-fallback\"><pre>XGBRegressor(base_score=None, booster=None, callbacks=None,\n",
       "             colsample_bylevel=None, colsample_bynode=None,\n",
       "             colsample_bytree=None, device=None, early_stopping_rounds=None,\n",
       "             enable_categorical=False, eval_metric=None, feature_types=None,\n",
       "             feature_weights=None, gamma=None, grow_policy=None,\n",
       "             importance_type=None, interaction_constraints=None,\n",
       "             learning_rate=0.05, max_bin=None, max_cat_threshold=None,\n",
       "             max_cat_to_onehot=None, max_delta_step=None, max_depth=6,\n",
       "             max_leaves=None, min_child_weight=None, missing=nan,\n",
       "             monotone_constraints=None, multi_strategy=None, n_estimators=1000,\n",
       "             n_jobs=None, num_parallel_tree=None, ...)</pre><b>In a Jupyter environment, please rerun this cell to show the HTML representation or trust the notebook. <br />On GitHub, the HTML representation is unable to render, please try loading this page with nbviewer.org.</b></div><div class=\"sk-container\" hidden><div class=\"sk-item\"><div class=\"sk-estimator sk-toggleable\"><input class=\"sk-toggleable__control sk-hidden--visually\" id=\"sk-estimator-id-1\" type=\"checkbox\" checked><label for=\"sk-estimator-id-1\" class=\"sk-toggleable__label sk-toggleable__label-arrow\">XGBRegressor</label><div class=\"sk-toggleable__content\"><pre>XGBRegressor(base_score=None, booster=None, callbacks=None,\n",
       "             colsample_bylevel=None, colsample_bynode=None,\n",
       "             colsample_bytree=None, device=None, early_stopping_rounds=None,\n",
       "             enable_categorical=False, eval_metric=None, feature_types=None,\n",
       "             feature_weights=None, gamma=None, grow_policy=None,\n",
       "             importance_type=None, interaction_constraints=None,\n",
       "             learning_rate=0.05, max_bin=None, max_cat_threshold=None,\n",
       "             max_cat_to_onehot=None, max_delta_step=None, max_depth=6,\n",
       "             max_leaves=None, min_child_weight=None, missing=nan,\n",
       "             monotone_constraints=None, multi_strategy=None, n_estimators=1000,\n",
       "             n_jobs=None, num_parallel_tree=None, ...)</pre></div></div></div></div></div>"
      ],
      "text/plain": [
       "XGBRegressor(base_score=None, booster=None, callbacks=None,\n",
       "             colsample_bylevel=None, colsample_bynode=None,\n",
       "             colsample_bytree=None, device=None, early_stopping_rounds=None,\n",
       "             enable_categorical=False, eval_metric=None, feature_types=None,\n",
       "             feature_weights=None, gamma=None, grow_policy=None,\n",
       "             importance_type=None, interaction_constraints=None,\n",
       "             learning_rate=0.05, max_bin=None, max_cat_threshold=None,\n",
       "             max_cat_to_onehot=None, max_delta_step=None, max_depth=6,\n",
       "             max_leaves=None, min_child_weight=None, missing=nan,\n",
       "             monotone_constraints=None, multi_strategy=None, n_estimators=1000,\n",
       "             n_jobs=None, num_parallel_tree=None, ...)"
      ]
     },
     "execution_count": 16,
     "metadata": {},
     "output_type": "execute_result"
    }
   ],
   "source": [
    "my_model = XGBRegressor(learning_rate = 0.05, n_estimators = 1000, max_depth = 6)\n",
    "my_model.fit(x_train, y_train, verbose=False)"
   ]
  },
  {
   "cell_type": "code",
   "execution_count": 17,
   "id": "226abdee",
   "metadata": {
    "execution": {
     "iopub.execute_input": "2023-06-28T15:19:25.730438Z",
     "iopub.status.busy": "2023-06-28T15:19:25.729974Z",
     "iopub.status.idle": "2023-06-28T15:19:25.739731Z",
     "shell.execute_reply": "2023-06-28T15:19:25.738504Z",
     "shell.execute_reply.started": "2023-06-28T15:19:25.730405Z"
    }
   },
   "outputs": [],
   "source": [
    "predictions = my_model.predict(x_test)\n",
    "predictions = predictions.reshape(-1,1)\n",
    "\n",
    "predictions_train = my_model.predict(x_train)\n",
    "predictions_train = predictions_train.reshape(-1,1)"
   ]
  },
  {
   "cell_type": "code",
   "execution_count": 18,
   "id": "373f5ca6",
   "metadata": {},
   "outputs": [],
   "source": [
    "predictions = scaler.inverse_transform(predictions)\n",
    "predictions_train = scaler.inverse_transform(predictions_train)\n",
    "y_test = scaler.inverse_transform(y_test)\n",
    "y_train = scaler.inverse_transform(y_train)"
   ]
  },
  {
   "cell_type": "code",
   "execution_count": 19,
   "id": "0a64ba1e",
   "metadata": {
    "execution": {
     "iopub.execute_input": "2023-06-28T15:19:26.515923Z",
     "iopub.status.busy": "2023-06-28T15:19:26.515399Z",
     "iopub.status.idle": "2023-06-28T15:19:26.535565Z",
     "shell.execute_reply": "2023-06-28T15:19:26.534209Z",
     "shell.execute_reply.started": "2023-06-28T15:19:26.515885Z"
    }
   },
   "outputs": [],
   "source": [
    "column_names_pred = ['Close_predict']\n",
    "df_predictions = pd.DataFrame(predictions, columns=column_names_pred)\n",
    "\n",
    "column_names_test = ['Close_test']\n",
    "df_test = pd.DataFrame(y_test, columns=column_names_test)\n",
    "\n",
    "concatenated = np.concatenate([df_predictions, df_test], axis=1)\n",
    "column_names_concat = ['Close_predict', 'Close_test']\n",
    "df_concatenated = pd.DataFrame(concatenated, columns = column_names_concat)"
   ]
  },
  {
   "cell_type": "code",
   "execution_count": 20,
   "id": "05fed178",
   "metadata": {
    "execution": {
     "iopub.execute_input": "2023-06-28T15:19:26.961751Z",
     "iopub.status.busy": "2023-06-28T15:19:26.961285Z",
     "iopub.status.idle": "2023-06-28T15:19:27.490678Z",
     "shell.execute_reply": "2023-06-28T15:19:27.489396Z",
     "shell.execute_reply.started": "2023-06-28T15:19:26.961714Z"
    }
   },
   "outputs": [
    {
     "data": {
      "image/png": "[encoded data removed]",
      "text/plain": [
       "<Figure size 1600x600 with 1 Axes>"
      ]
     },
     "metadata": {},
     "output_type": "display_data"
    }
   ],
   "source": [
    "plt.figure(figsize=(16,6))\n",
    "plt.title('Close Price History')\n",
    "plt.plot(df_predictions['Close_predict'], color='red', label='Predicted Close Price')\n",
    "plt.plot(df_test['Close_test'], color='blue', label='Actual Close Price')\n",
    "plt.xlabel('Date', fontsize=18)\n",
    "plt.ylabel('Close Price USD ($)', fontsize=18)\n",
    "plt.show()"
   ]
  },
  {
   "cell_type": "markdown",
   "id": "ff5e8f83",
   "metadata": {},
   "source": [
    "### Evaluate model"
   ]
  },
  {
   "cell_type": "code",
   "execution_count": 21,
   "id": "1aa73529",
   "metadata": {},
   "outputs": [],
   "source": [
    "predictions = scaler.fit_transform(predictions)\n",
    "predictions_train = scaler.fit_transform(predictions_train)\n",
    "y_test = scaler.fit_transform(y_test)\n",
    "y_train = scaler.fit_transform(y_train)"
   ]
  },
  {
   "cell_type": "code",
   "execution_count": 22,
   "id": "73753fa5",
   "metadata": {
    "execution": {
     "iopub.execute_input": "2023-06-28T15:19:27.825496Z",
     "iopub.status.busy": "2023-06-28T15:19:27.825029Z",
     "iopub.status.idle": "2023-06-28T15:19:27.835724Z",
     "shell.execute_reply": "2023-06-28T15:19:27.834413Z",
     "shell.execute_reply.started": "2023-06-28T15:19:27.825451Z"
    },
    "scrolled": true
   },
   "outputs": [
    {
     "name": "stdout",
     "output_type": "stream",
     "text": [
      "Train Mean Absolute Error: 0.0036618111178148543\n",
      "Train Mean Squared Error: 2.7947030571744374e-05\n",
      "Train R-squared: 0.9999720529694283\n"
     ]
    }
   ],
   "source": [
    "\n",
    "mae_train = mean_absolute_error(y_train, predictions_train)\n",
    "rmse_train = mean_squared_error(y_train, predictions_train)\n",
    "accuracy_score_train = r2_score(y_train, predictions_train)\n",
    "\n",
    "print(\"Train Mean Absolute Error:\", mae_train)\n",
    "print(\"Train Mean Squared Error:\", rmse_train)\n",
    "print(\"Train R-squared:\", accuracy_score_train)\n"
   ]
  },
  {
   "cell_type": "code",
   "execution_count": 23,
   "id": "1db21350",
   "metadata": {
    "execution": {
     "iopub.execute_input": "2023-06-28T15:19:30.392591Z",
     "iopub.status.busy": "2023-06-28T15:19:30.392157Z",
     "iopub.status.idle": "2023-06-28T15:19:30.403012Z",
     "shell.execute_reply": "2023-06-28T15:19:30.401605Z",
     "shell.execute_reply.started": "2023-06-28T15:19:30.392558Z"
    },
    "scrolled": true
   },
   "outputs": [
    {
     "name": "stdout",
     "output_type": "stream",
     "text": [
      "Test Mean Absolute Error: 0.38978275765391857\n",
      "Test Mean Squared Error: 0.21507880906237567\n",
      "Test R-squared: 0.7849211909376244\n"
     ]
    }
   ],
   "source": [
    "mae_test = mean_absolute_error(y_test, predictions)\n",
    "rmse_test = mean_squared_error(y_test, predictions)\n",
    "accuracy_score_test = r2_score(y_test, predictions)\n",
    "\n",
    "print(\"Test Mean Absolute Error:\", mae_test)\n",
    "print(\"Test Mean Squared Error:\", rmse_test)\n",
    "print(\"Test R-squared:\", accuracy_score_test)"
   ]
  }
 ],
 "metadata": {
  "kernelspec": {
   "display_name": "Python 3",
   "language": "python",
   "name": "python3"
  },
  "language_info": {
   "codemirror_mode": {
    "name": "ipython",
    "version": 3
   },
   "file_extension": ".py",
   "mimetype": "text/x-python",
   "name": "python",
   "nbconvert_exporter": "python",
   "pygments_lexer": "ipython3",
   "version": "3.11.5"
  }
 },
 "nbformat": 4,
 "nbformat_minor": 5
}
