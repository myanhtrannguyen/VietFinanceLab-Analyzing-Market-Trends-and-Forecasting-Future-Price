{
 "cells": [
  {
   "cell_type": "markdown",
   "id": "2daf3399",
   "metadata": {},
   "source": [
    "**Outline:**\n",
    "\n",
    "1. [Libraries and settings](#1-bullet)\n",
    "2. [Nested CV](#2-bullet)"
   ]
  },
  {
   "cell_type": "markdown",
   "id": "be844ac2",
   "metadata": {},
   "source": [
    "## 1. [Libraries and settings](#1-bullet)"
   ]
  },
  {
   "cell_type": "code",
   "execution_count": 10,
   "id": "019c7c30",
   "metadata": {},
   "outputs": [],
   "source": [
    "from DataPreprocessing import *"
   ]
  },
  {
   "cell_type": "markdown",
   "id": "377763bf",
   "metadata": {},
   "source": [
    "## 2. [Nested CV - Day Forward Chaining](#2-bullet)"
   ]
  },
  {
   "cell_type": "markdown",
   "id": "2547a9f8",
   "metadata": {},
   "source": [
    "We try to use nested CV for time series to try to tune hyperparameters. After getting best hyperparameters, we retrain model and then evaluate"
   ]
  },
  {
   "cell_type": "markdown",
   "id": "d6c9b80c",
   "metadata": {},
   "source": [
    "### Create dataset"
   ]
  },
  {
   "cell_type": "code",
   "execution_count": 5,
   "id": "356cb3bc",
   "metadata": {},
   "outputs": [],
   "source": [
    "def create_dataset(dataset, time_step=1):\n",
    "    dataX, dataY = [], []\n",
    "    for i in range(len(dataset)-time_step-1):\n",
    "        a = dataset[i:(i+time_step), 0]  \n",
    "        dataX.append(a)\n",
    "        dataY.append(dataset[i + time_step, 0])\n",
    "    return np.array(dataX), np.array(dataY)"
   ]
  },
  {
   "cell_type": "code",
   "execution_count": 6,
   "id": "ede5e33b",
   "metadata": {},
   "outputs": [],
   "source": [
    "time_step = 30\n",
    "x_for_train, y_for_train = create_dataset(scaled_data, time_step)\n",
    "\n",
    "x_for_train = x_for_train.reshape(x_for_train.shape[0],x_for_train.shape[1])\n",
    "y_for_train = y_for_train.reshape(y_for_train.shape[0],1)"
   ]
  },
  {
   "cell_type": "markdown",
   "id": "90e73182",
   "metadata": {},
   "source": [
    "### Day forward chaining"
   ]
  },
  {
   "cell_type": "code",
   "execution_count": 7,
   "id": "13587a66",
   "metadata": {},
   "outputs": [],
   "source": [
    "def performXGBoost(X_train, Y_train, X_test, Y_test, parameters):\n",
    "\n",
    "    XGBoost_model = XGBRegressor(n_estimators = parameters['n_estimators'], max_depth = parameters['max_depth'], learning_rate = parameters['learning_rate'])\n",
    "    XGBoost_model.fit(X_train, Y_train, verbose=False)\n",
    "\n",
    "    # Make predictions on the test set\n",
    "    Y_pred_train = XGBoost_model.predict(X_train)\n",
    "    Y_pred_test = XGBoost_model.predict(X_test)\n",
    "\n",
    "    # Calculate accuracy\n",
    "    accuracy_train = XGBoost_model.score(X_train, Y_train)\n",
    "    accuracy_valid = XGBoost_model.score(X_test, Y_test)\n",
    "    \n",
    "    mse_train = mean_squared_error(Y_train, Y_pred_train)\n",
    "    mse_valid = mean_squared_error(Y_test, Y_pred_test)\n",
    "    \n",
    "    return [accuracy_train, accuracy_valid, mse_train, mse_valid]"
   ]
  },
  {
   "cell_type": "code",
   "execution_count": 8,
   "id": "b2f84c80",
   "metadata": {},
   "outputs": [],
   "source": [
    "from sklearn.model_selection import ParameterGrid\n",
    "\n",
    "def performDayForwardChaining(X_train, y_train, number_folds):\n",
    "    # Định nghĩa siêu tham số để tinh chỉnh\n",
    "    param_grid = {\n",
    "        'n_estimators': [100, 500, 1000],\n",
    "        'max_depth': [3,6,10],\n",
    "        'learning_rate' : [0.01, 0.05, 0.1]\n",
    "    }\n",
    "\n",
    "    # Chuyển đổi siêu tham số thành danh sách các tham số có thể\n",
    "    param_list = list(ParameterGrid(param_grid))\n",
    "    \n",
    "    print('Size train set: ', X_train.shape)\n",
    "    \n",
    "    # k is the size of each fold. It is computed dividing the number of \n",
    "    # rows in X_train by number_folds. This number is floored and coerced to int\n",
    "    k = int(np.floor(float(X_train.shape[0]) / number_folds))\n",
    "    print('Size of each fold: ', k)\n",
    "    \n",
    "    results_valid = []\n",
    "    results_test = []\n",
    "    # loop from the first 2 folds to the total number of folds    \n",
    "    for i in range(3, number_folds + 1):\n",
    "        print('')\n",
    "        \n",
    "        split = float(i-1)/i\n",
    "        \n",
    "        print('Splitting the first ' + str(i) + ' chunks at ' + str(i-1) + '/' + str(i))\n",
    "\n",
    "        X = X_train[:(k*i),:]\n",
    "        y = y_train[:(k*i),:]\n",
    "        print('Size of train + valid + test: ', X.shape) \n",
    "\n",
    "        index = int(np.floor(X.shape[0] * split))\n",
    "        print(index)\n",
    "        \n",
    "        # folds used to train the model        \n",
    "        X_train_validFolds = X[:index,:]        \n",
    "        y_train_validFolds = y[:index,:]\n",
    "        \n",
    "        index_valid = int((i-2)*index/(i-1))\n",
    "        \n",
    "        X_trainFolds = X_train_validFolds[:index_valid,:]\n",
    "        y_trainFolds = y_train_validFolds[:index_valid,:]\n",
    "        \n",
    "        X_validFolds = X_train_validFolds[index_valid:,:]\n",
    "        y_validFolds = y_train_validFolds[index_valid:,:]\n",
    "        \n",
    "        # fold used to test the model\n",
    "        X_testFolds = X[(index + 1):,:]\n",
    "        y_testFolds = y[(index + 1):,:]\n",
    "        \n",
    "        for j,params in enumerate(param_list):\n",
    "            print(f\"Evaluating parameters {j+1}: {params}\")\n",
    "            accuracies_valid = performXGBoost(X_trainFolds, y_trainFolds, X_validFolds, y_validFolds, params)\n",
    "            \n",
    "            results_valid.append({\n",
    "            'parameters': params,\n",
    "            'accuracy_train': accuracies_valid[0],\n",
    "            'accuracy_valid': accuracies_valid[1],\n",
    "            'mse_train': accuracies_valid[2],\n",
    "            'mse_valid': accuracies_valid[3]\n",
    "            })\n",
    "\n",
    "        for result in results_valid:\n",
    "            print(\"Parameters: \", result['parameters'])\n",
    "            print(\"Train Accuracy: \", result['accuracy_train'])\n",
    "            print(\"Valid Accuracy: \", result['accuracy_valid'])\n",
    "            print(\"Train MSE: \", result['mse_train'])\n",
    "            print(\"Valid MSE: \", result['mse_valid'])\n",
    "            print(\"------------------------\")\n",
    "        \n",
    "        # Sắp xếp danh sách kết quả theo trường 'accuracy_valid' tăng dần\n",
    "        sorted_results_valid = sorted(results_valid, key=lambda x: x['mse_valid'], reverse=False)\n",
    "\n",
    "        # Lấy bộ tham số đầu tiên từ danh sách đã sắp xếp\n",
    "        best_parameters = sorted_results_valid[0]['parameters']\n",
    "        print(best_parameters)\n",
    "        \n",
    "        accuracies_test = performXGBoost(X_train_validFolds, y_train_validFolds, X_testFolds, y_testFolds, best_parameters)\n",
    "        \n",
    "        results_test.append({\n",
    "            'parameters': best_parameters,\n",
    "            'accuracy_train': accuracies_test[0],\n",
    "            'accuracy_test': accuracies_test[1],\n",
    "            'mse_train': accuracies_test[2],\n",
    "            'mse_test': accuracies_test[3]\n",
    "            })\n",
    "        \n",
    "    acc_train_model = 0\n",
    "    acc_test_model = 0\n",
    "    mse_train_model = 0\n",
    "    mse_test_model = 0\n",
    "    cnt = 0\n",
    "    for result in results_test:\n",
    "        acc_train_model += result['accuracy_train']\n",
    "        acc_test_model += result['accuracy_test']\n",
    "        mse_train_model += result['mse_train']\n",
    "        mse_test_model += result['mse_test']\n",
    "        cnt += 1\n",
    "\n",
    "    acc_train_model = acc_train_model/cnt\n",
    "    acc_test_model = acc_test_model/cnt\n",
    "    mse_train_model = mse_train_model/cnt\n",
    "    mse_test_model = mse_test_model/cnt\n",
    "    # the function returns the mean of the accuracy on the n-1 folds    \n",
    "    return acc_train_model, acc_test_model, mse_train_model, mse_test_model"
   ]
  },
  {
   "cell_type": "code",
   "execution_count": 11,
   "id": "a788f656",
   "metadata": {},
   "outputs": [
    {
     "name": "stdout",
     "output_type": "stream",
     "text": [
      "Size train set:  (3506, 30)\n",
      "Size of each fold:  701\n",
      "\n",
      "Splitting the first 3 chunks at 2/3\n",
      "Size of train + valid + test:  (2103, 30)\n",
      "1402\n",
      "Evaluating parameters 1: {'learning_rate': 0.01, 'max_depth': 3, 'n_estimators': 100}\n"
     ]
    },
    {
     "ename": "NameError",
     "evalue": "name 'XGBRegressor' is not defined",
     "output_type": "error",
     "traceback": [
      "\u001b[1;31m---------------------------------------------------------------------------\u001b[0m",
      "\u001b[1;31mNameError\u001b[0m                                 Traceback (most recent call last)",
      "Cell \u001b[1;32mIn[11], line 1\u001b[0m\n\u001b[1;32m----> 1\u001b[0m accuracy_train_model, accuracy_test_model, mse_train_model, mse_test_model \u001b[38;5;241m=\u001b[39m performDayForwardChaining(x_for_train, y_for_train, number_folds\u001b[38;5;241m=\u001b[39m\u001b[38;5;241m5\u001b[39m)\n\u001b[0;32m      3\u001b[0m \u001b[38;5;28mprint\u001b[39m(\u001b[38;5;124m\"\u001b[39m\u001b[38;5;124mTrain Accuracy Model: \u001b[39m\u001b[38;5;124m\"\u001b[39m, accuracy_train_model)\n\u001b[0;32m      4\u001b[0m \u001b[38;5;28mprint\u001b[39m(\u001b[38;5;124m\"\u001b[39m\u001b[38;5;124mTest Accuracy Model: \u001b[39m\u001b[38;5;124m\"\u001b[39m, accuracy_test_model)\n",
      "Cell \u001b[1;32mIn[8], line 56\u001b[0m, in \u001b[0;36mperformDayForwardChaining\u001b[1;34m(X_train, y_train, number_folds)\u001b[0m\n\u001b[0;32m     54\u001b[0m \u001b[38;5;28;01mfor\u001b[39;00m j,params \u001b[38;5;129;01min\u001b[39;00m \u001b[38;5;28menumerate\u001b[39m(param_list):\n\u001b[0;32m     55\u001b[0m     \u001b[38;5;28mprint\u001b[39m(\u001b[38;5;124mf\u001b[39m\u001b[38;5;124m\"\u001b[39m\u001b[38;5;124mEvaluating parameters \u001b[39m\u001b[38;5;132;01m{\u001b[39;00mj\u001b[38;5;241m+\u001b[39m\u001b[38;5;241m1\u001b[39m\u001b[38;5;132;01m}\u001b[39;00m\u001b[38;5;124m: \u001b[39m\u001b[38;5;132;01m{\u001b[39;00mparams\u001b[38;5;132;01m}\u001b[39;00m\u001b[38;5;124m\"\u001b[39m)\n\u001b[1;32m---> 56\u001b[0m     accuracies_valid \u001b[38;5;241m=\u001b[39m performXGBoost(X_trainFolds, y_trainFolds, X_validFolds, y_validFolds, params)\n\u001b[0;32m     58\u001b[0m     results_valid\u001b[38;5;241m.\u001b[39mappend({\n\u001b[0;32m     59\u001b[0m     \u001b[38;5;124m'\u001b[39m\u001b[38;5;124mparameters\u001b[39m\u001b[38;5;124m'\u001b[39m: params,\n\u001b[0;32m     60\u001b[0m     \u001b[38;5;124m'\u001b[39m\u001b[38;5;124maccuracy_train\u001b[39m\u001b[38;5;124m'\u001b[39m: accuracies_valid[\u001b[38;5;241m0\u001b[39m],\n\u001b[1;32m   (...)\u001b[0m\n\u001b[0;32m     63\u001b[0m     \u001b[38;5;124m'\u001b[39m\u001b[38;5;124mmse_valid\u001b[39m\u001b[38;5;124m'\u001b[39m: accuracies_valid[\u001b[38;5;241m3\u001b[39m]\n\u001b[0;32m     64\u001b[0m     })\n\u001b[0;32m     66\u001b[0m \u001b[38;5;28;01mfor\u001b[39;00m result \u001b[38;5;129;01min\u001b[39;00m results_valid:\n",
      "Cell \u001b[1;32mIn[7], line 3\u001b[0m, in \u001b[0;36mperformXGBoost\u001b[1;34m(X_train, Y_train, X_test, Y_test, parameters)\u001b[0m\n\u001b[0;32m      1\u001b[0m \u001b[38;5;28;01mdef\u001b[39;00m \u001b[38;5;21mperformXGBoost\u001b[39m(X_train, Y_train, X_test, Y_test, parameters):\n\u001b[1;32m----> 3\u001b[0m     XGBoost_model \u001b[38;5;241m=\u001b[39m XGBRegressor(n_estimators \u001b[38;5;241m=\u001b[39m parameters[\u001b[38;5;124m'\u001b[39m\u001b[38;5;124mn_estimators\u001b[39m\u001b[38;5;124m'\u001b[39m], max_depth \u001b[38;5;241m=\u001b[39m parameters[\u001b[38;5;124m'\u001b[39m\u001b[38;5;124mmax_depth\u001b[39m\u001b[38;5;124m'\u001b[39m], learning_rate \u001b[38;5;241m=\u001b[39m parameters[\u001b[38;5;124m'\u001b[39m\u001b[38;5;124mlearning_rate\u001b[39m\u001b[38;5;124m'\u001b[39m])\n\u001b[0;32m      4\u001b[0m     XGBoost_model\u001b[38;5;241m.\u001b[39mfit(X_train, Y_train, verbose\u001b[38;5;241m=\u001b[39m\u001b[38;5;28;01mFalse\u001b[39;00m)\n\u001b[0;32m      6\u001b[0m     \u001b[38;5;66;03m# Make predictions on the test set\u001b[39;00m\n",
      "\u001b[1;31mNameError\u001b[0m: name 'XGBRegressor' is not defined"
     ]
    }
   ],
   "source": [
    "accuracy_train_model, accuracy_test_model, mse_train_model, mse_test_model = performDayForwardChaining(x_for_train, y_for_train, number_folds=5)\n",
    "\n",
    "print(\"Train Accuracy Model: \", accuracy_train_model)\n",
    "print(\"Test Accuracy Model: \", accuracy_test_model)\n",
    "print(\"Train MSE Model: \", mse_train_model)\n",
    "print(\"Test MSE Model: \", mse_test_model)\n",
    "print(\"------------------------\")\n",
    "   "
   ]
  },
  {
   "cell_type": "code",
   "execution_count": null,
   "id": "b9413d70",
   "metadata": {},
   "outputs": [],
   "source": []
  }
 ],
 "metadata": {
  "kernelspec": {
   "display_name": "base",
   "language": "python",
   "name": "python3"
  },
  "language_info": {
   "codemirror_mode": {
    "name": "ipython",
    "version": 3
   },
   "file_extension": ".py",
   "mimetype": "text/x-python",
   "name": "python",
   "nbconvert_exporter": "python",
   "pygments_lexer": "ipython3",
   "version": "3.12.7"
  }
 },
 "nbformat": 4,
 "nbformat_minor": 5
}
